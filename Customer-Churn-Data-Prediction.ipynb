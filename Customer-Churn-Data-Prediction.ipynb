{
  "nbformat": 4,
  "nbformat_minor": 0,
  "metadata": {
    "colab": {
      "provenance": [],
      "machine_shape": "hm",
      "gpuType": "V100"
    },
    "kernelspec": {
      "name": "python3",
      "display_name": "Python 3"
    },
    "language_info": {
      "name": "python"
    },
    "accelerator": "GPU"
  },
  "cells": [
    {
      "cell_type": "markdown",
      "source": [],
      "metadata": {
        "id": "YxZ9D7HwLZct"
      }
    },
    {
      "cell_type": "code",
      "execution_count": null,
      "metadata": {
        "colab": {
          "base_uri": "https://localhost:8080/"
        },
        "id": "YgIwKAK1g2wF",
        "outputId": "38fca901-2270-4184-8d91-e956513056ee"
      },
      "outputs": [
        {
          "output_type": "stream",
          "name": "stdout",
          "text": [
            "Mounted at /content/drive\n"
          ]
        }
      ],
      "source": [
        "from google.colab import drive\n",
        "drive.mount('/content/drive')"
      ]
    },
    {
      "cell_type": "code",
      "source": [
        "path = 'drive/My Drive/data'"
      ],
      "metadata": {
        "id": "Eqw918-VsyMy"
      },
      "execution_count": null,
      "outputs": []
    },
    {
      "cell_type": "code",
      "source": [
        "import pandas as pd\n",
        "from matplotlib import pyplot as plt\n",
        "import numpy as np\n",
        "from sklearn.model_selection import train_test_split\n",
        "from keras.preprocessing.sequence import TimeseriesGenerator\n",
        "from sklearn.preprocessing import MinMaxScaler,StandardScaler\n",
        "import tensorflow as tf\n",
        "from sklearn.impute import SimpleImputer\n",
        "from sklearn.preprocessing import StandardScaler"
      ],
      "metadata": {
        "id": "ogH5vCNws7Ds"
      },
      "execution_count": null,
      "outputs": []
    },
    {
      "cell_type": "code",
      "source": [
        "df = pd.read_csv('/content/drive/MyDrive/datathon/sorted_filtered_source_data.csv')"
      ],
      "metadata": {
        "id": "tBC0gouhtKga"
      },
      "execution_count": null,
      "outputs": []
    },
    {
      "cell_type": "code",
      "source": [
        "df.shape\n"
      ],
      "metadata": {
        "colab": {
          "base_uri": "https://localhost:8080/"
        },
        "id": "QJLx8rdfth7u",
        "outputId": "1e17f6be-56aa-405e-93b1-94e7329a6fcf"
      },
      "execution_count": null,
      "outputs": [
        {
          "output_type": "execute_result",
          "data": {
            "text/plain": [
              "(4680360, 14)"
            ]
          },
          "metadata": {},
          "execution_count": 5
        }
      ]
    },
    {
      "cell_type": "code",
      "source": [
        "df"
      ],
      "metadata": {
        "colab": {
          "base_uri": "https://localhost:8080/",
          "height": 443
        },
        "id": "Cx6Fw207uiIh",
        "outputId": "6074ffb9-aa83-49e6-9aac-cfd3c52ece63"
      },
      "execution_count": null,
      "outputs": [
        {
          "output_type": "execute_result",
          "data": {
            "text/plain": [
              "                                               customer_id  day_no  \\\n",
              "0        0000f727854b50bb95c054b39c1fe5c92e5ebcfa4bcb5d...       1   \n",
              "1        0000f727854b50bb95c054b39c1fe5c92e5ebcfa4bcb5d...       2   \n",
              "2        0000f727854b50bb95c054b39c1fe5c92e5ebcfa4bcb5d...       3   \n",
              "3        0000f727854b50bb95c054b39c1fe5c92e5ebcfa4bcb5d...       4   \n",
              "4        0000f727854b50bb95c054b39c1fe5c92e5ebcfa4bcb5d...       5   \n",
              "...                                                    ...     ...   \n",
              "4680355  fffff7f18e3f2477c5c981222df6260c01b0e9324cfc87...      86   \n",
              "4680356  fffff7f18e3f2477c5c981222df6260c01b0e9324cfc87...      87   \n",
              "4680357  fffff7f18e3f2477c5c981222df6260c01b0e9324cfc87...      88   \n",
              "4680358  fffff7f18e3f2477c5c981222df6260c01b0e9324cfc87...      89   \n",
              "4680359  fffff7f18e3f2477c5c981222df6260c01b0e9324cfc87...      90   \n",
              "\n",
              "         usage_app_facebook_daily  usage_app_helakuru_daily  usage_app_other  \\\n",
              "0                           60.31                     32.38           159.70   \n",
              "1                            0.00                     58.27            56.24   \n",
              "2                          133.73                     12.05           135.03   \n",
              "3                          262.71                      0.00           120.87   \n",
              "4                           96.26                     27.85           118.67   \n",
              "...                           ...                       ...              ...   \n",
              "4680355                    277.94                     48.34           303.31   \n",
              "4680356                    329.72                     49.20           451.45   \n",
              "4680357                    341.92                     48.99           413.73   \n",
              "4680358                    337.44                     50.05           341.92   \n",
              "4680359                    244.30                     50.85           448.51   \n",
              "\n",
              "         usage_app_tiktok_daily  usage_app_whatsapp_daily  \\\n",
              "0                         39.77                     12.23   \n",
              "1                        280.53                      6.47   \n",
              "2                        168.41                     10.51   \n",
              "3                        100.44                      9.33   \n",
              "4                        492.71                     10.04   \n",
              "...                         ...                       ...   \n",
              "4680355                    0.00                      0.00   \n",
              "4680356                    0.00                     11.65   \n",
              "4680357                    0.00                      0.00   \n",
              "4680358                    0.00                      0.00   \n",
              "4680359                    0.00                      0.00   \n",
              "\n",
              "         usage_app_youtube_daily  usage_pack_data  usage_pack_vas  \\\n",
              "0                           0.00           100.52           28.93   \n",
              "1                         242.45            99.60           15.20   \n",
              "2                         274.21            98.73           30.40   \n",
              "3                           0.00            99.64           20.88   \n",
              "4                         313.87            99.94           18.70   \n",
              "...                          ...              ...             ...   \n",
              "4680355                   261.67            48.31            0.00   \n",
              "4680356                   228.95             0.00            0.00   \n",
              "4680357                   223.03           154.70            0.00   \n",
              "4680358                   237.96           259.29            0.00   \n",
              "4680359                   214.72             0.00            0.00   \n",
              "\n",
              "         usage_voice_d2d_incoming  usage_voice_d2d_outgoing  \\\n",
              "0                           36.91                     55.62   \n",
              "1                            6.43                     67.57   \n",
              "2                           28.52                     98.07   \n",
              "3                           23.28                    215.60   \n",
              "4                           11.89                      0.00   \n",
              "...                           ...                       ...   \n",
              "4680355                     32.74                     43.46   \n",
              "4680356                     58.11                     11.80   \n",
              "4680357                     32.52                      9.40   \n",
              "4680358                      8.91                     71.29   \n",
              "4680359                     25.93                     38.42   \n",
              "\n",
              "         usage_voice_d2nd_outgoing  usage_voice_nd2d_incoming  \n",
              "0                            34.91                      10.47  \n",
              "1                            16.74                      16.54  \n",
              "2                            17.92                      15.46  \n",
              "3                            27.30                      19.80  \n",
              "4                            37.04                      16.75  \n",
              "...                            ...                        ...  \n",
              "4680355                       0.00                       0.00  \n",
              "4680356                       0.00                       0.00  \n",
              "4680357                       0.00                       0.00  \n",
              "4680358                       0.00                       0.00  \n",
              "4680359                      37.70                       0.00  \n",
              "\n",
              "[4680360 rows x 14 columns]"
            ],
            "text/html": [
              "\n",
              "  <div id=\"df-37fbba6b-bbc1-482b-9acb-24f6c915b272\" class=\"colab-df-container\">\n",
              "    <div>\n",
              "<style scoped>\n",
              "    .dataframe tbody tr th:only-of-type {\n",
              "        vertical-align: middle;\n",
              "    }\n",
              "\n",
              "    .dataframe tbody tr th {\n",
              "        vertical-align: top;\n",
              "    }\n",
              "\n",
              "    .dataframe thead th {\n",
              "        text-align: right;\n",
              "    }\n",
              "</style>\n",
              "<table border=\"1\" class=\"dataframe\">\n",
              "  <thead>\n",
              "    <tr style=\"text-align: right;\">\n",
              "      <th></th>\n",
              "      <th>customer_id</th>\n",
              "      <th>day_no</th>\n",
              "      <th>usage_app_facebook_daily</th>\n",
              "      <th>usage_app_helakuru_daily</th>\n",
              "      <th>usage_app_other</th>\n",
              "      <th>usage_app_tiktok_daily</th>\n",
              "      <th>usage_app_whatsapp_daily</th>\n",
              "      <th>usage_app_youtube_daily</th>\n",
              "      <th>usage_pack_data</th>\n",
              "      <th>usage_pack_vas</th>\n",
              "      <th>usage_voice_d2d_incoming</th>\n",
              "      <th>usage_voice_d2d_outgoing</th>\n",
              "      <th>usage_voice_d2nd_outgoing</th>\n",
              "      <th>usage_voice_nd2d_incoming</th>\n",
              "    </tr>\n",
              "  </thead>\n",
              "  <tbody>\n",
              "    <tr>\n",
              "      <th>0</th>\n",
              "      <td>0000f727854b50bb95c054b39c1fe5c92e5ebcfa4bcb5d...</td>\n",
              "      <td>1</td>\n",
              "      <td>60.31</td>\n",
              "      <td>32.38</td>\n",
              "      <td>159.70</td>\n",
              "      <td>39.77</td>\n",
              "      <td>12.23</td>\n",
              "      <td>0.00</td>\n",
              "      <td>100.52</td>\n",
              "      <td>28.93</td>\n",
              "      <td>36.91</td>\n",
              "      <td>55.62</td>\n",
              "      <td>34.91</td>\n",
              "      <td>10.47</td>\n",
              "    </tr>\n",
              "    <tr>\n",
              "      <th>1</th>\n",
              "      <td>0000f727854b50bb95c054b39c1fe5c92e5ebcfa4bcb5d...</td>\n",
              "      <td>2</td>\n",
              "      <td>0.00</td>\n",
              "      <td>58.27</td>\n",
              "      <td>56.24</td>\n",
              "      <td>280.53</td>\n",
              "      <td>6.47</td>\n",
              "      <td>242.45</td>\n",
              "      <td>99.60</td>\n",
              "      <td>15.20</td>\n",
              "      <td>6.43</td>\n",
              "      <td>67.57</td>\n",
              "      <td>16.74</td>\n",
              "      <td>16.54</td>\n",
              "    </tr>\n",
              "    <tr>\n",
              "      <th>2</th>\n",
              "      <td>0000f727854b50bb95c054b39c1fe5c92e5ebcfa4bcb5d...</td>\n",
              "      <td>3</td>\n",
              "      <td>133.73</td>\n",
              "      <td>12.05</td>\n",
              "      <td>135.03</td>\n",
              "      <td>168.41</td>\n",
              "      <td>10.51</td>\n",
              "      <td>274.21</td>\n",
              "      <td>98.73</td>\n",
              "      <td>30.40</td>\n",
              "      <td>28.52</td>\n",
              "      <td>98.07</td>\n",
              "      <td>17.92</td>\n",
              "      <td>15.46</td>\n",
              "    </tr>\n",
              "    <tr>\n",
              "      <th>3</th>\n",
              "      <td>0000f727854b50bb95c054b39c1fe5c92e5ebcfa4bcb5d...</td>\n",
              "      <td>4</td>\n",
              "      <td>262.71</td>\n",
              "      <td>0.00</td>\n",
              "      <td>120.87</td>\n",
              "      <td>100.44</td>\n",
              "      <td>9.33</td>\n",
              "      <td>0.00</td>\n",
              "      <td>99.64</td>\n",
              "      <td>20.88</td>\n",
              "      <td>23.28</td>\n",
              "      <td>215.60</td>\n",
              "      <td>27.30</td>\n",
              "      <td>19.80</td>\n",
              "    </tr>\n",
              "    <tr>\n",
              "      <th>4</th>\n",
              "      <td>0000f727854b50bb95c054b39c1fe5c92e5ebcfa4bcb5d...</td>\n",
              "      <td>5</td>\n",
              "      <td>96.26</td>\n",
              "      <td>27.85</td>\n",
              "      <td>118.67</td>\n",
              "      <td>492.71</td>\n",
              "      <td>10.04</td>\n",
              "      <td>313.87</td>\n",
              "      <td>99.94</td>\n",
              "      <td>18.70</td>\n",
              "      <td>11.89</td>\n",
              "      <td>0.00</td>\n",
              "      <td>37.04</td>\n",
              "      <td>16.75</td>\n",
              "    </tr>\n",
              "    <tr>\n",
              "      <th>...</th>\n",
              "      <td>...</td>\n",
              "      <td>...</td>\n",
              "      <td>...</td>\n",
              "      <td>...</td>\n",
              "      <td>...</td>\n",
              "      <td>...</td>\n",
              "      <td>...</td>\n",
              "      <td>...</td>\n",
              "      <td>...</td>\n",
              "      <td>...</td>\n",
              "      <td>...</td>\n",
              "      <td>...</td>\n",
              "      <td>...</td>\n",
              "      <td>...</td>\n",
              "    </tr>\n",
              "    <tr>\n",
              "      <th>4680355</th>\n",
              "      <td>fffff7f18e3f2477c5c981222df6260c01b0e9324cfc87...</td>\n",
              "      <td>86</td>\n",
              "      <td>277.94</td>\n",
              "      <td>48.34</td>\n",
              "      <td>303.31</td>\n",
              "      <td>0.00</td>\n",
              "      <td>0.00</td>\n",
              "      <td>261.67</td>\n",
              "      <td>48.31</td>\n",
              "      <td>0.00</td>\n",
              "      <td>32.74</td>\n",
              "      <td>43.46</td>\n",
              "      <td>0.00</td>\n",
              "      <td>0.00</td>\n",
              "    </tr>\n",
              "    <tr>\n",
              "      <th>4680356</th>\n",
              "      <td>fffff7f18e3f2477c5c981222df6260c01b0e9324cfc87...</td>\n",
              "      <td>87</td>\n",
              "      <td>329.72</td>\n",
              "      <td>49.20</td>\n",
              "      <td>451.45</td>\n",
              "      <td>0.00</td>\n",
              "      <td>11.65</td>\n",
              "      <td>228.95</td>\n",
              "      <td>0.00</td>\n",
              "      <td>0.00</td>\n",
              "      <td>58.11</td>\n",
              "      <td>11.80</td>\n",
              "      <td>0.00</td>\n",
              "      <td>0.00</td>\n",
              "    </tr>\n",
              "    <tr>\n",
              "      <th>4680357</th>\n",
              "      <td>fffff7f18e3f2477c5c981222df6260c01b0e9324cfc87...</td>\n",
              "      <td>88</td>\n",
              "      <td>341.92</td>\n",
              "      <td>48.99</td>\n",
              "      <td>413.73</td>\n",
              "      <td>0.00</td>\n",
              "      <td>0.00</td>\n",
              "      <td>223.03</td>\n",
              "      <td>154.70</td>\n",
              "      <td>0.00</td>\n",
              "      <td>32.52</td>\n",
              "      <td>9.40</td>\n",
              "      <td>0.00</td>\n",
              "      <td>0.00</td>\n",
              "    </tr>\n",
              "    <tr>\n",
              "      <th>4680358</th>\n",
              "      <td>fffff7f18e3f2477c5c981222df6260c01b0e9324cfc87...</td>\n",
              "      <td>89</td>\n",
              "      <td>337.44</td>\n",
              "      <td>50.05</td>\n",
              "      <td>341.92</td>\n",
              "      <td>0.00</td>\n",
              "      <td>0.00</td>\n",
              "      <td>237.96</td>\n",
              "      <td>259.29</td>\n",
              "      <td>0.00</td>\n",
              "      <td>8.91</td>\n",
              "      <td>71.29</td>\n",
              "      <td>0.00</td>\n",
              "      <td>0.00</td>\n",
              "    </tr>\n",
              "    <tr>\n",
              "      <th>4680359</th>\n",
              "      <td>fffff7f18e3f2477c5c981222df6260c01b0e9324cfc87...</td>\n",
              "      <td>90</td>\n",
              "      <td>244.30</td>\n",
              "      <td>50.85</td>\n",
              "      <td>448.51</td>\n",
              "      <td>0.00</td>\n",
              "      <td>0.00</td>\n",
              "      <td>214.72</td>\n",
              "      <td>0.00</td>\n",
              "      <td>0.00</td>\n",
              "      <td>25.93</td>\n",
              "      <td>38.42</td>\n",
              "      <td>37.70</td>\n",
              "      <td>0.00</td>\n",
              "    </tr>\n",
              "  </tbody>\n",
              "</table>\n",
              "<p>4680360 rows × 14 columns</p>\n",
              "</div>\n",
              "    <div class=\"colab-df-buttons\">\n",
              "\n",
              "  <div class=\"colab-df-container\">\n",
              "    <button class=\"colab-df-convert\" onclick=\"convertToInteractive('df-37fbba6b-bbc1-482b-9acb-24f6c915b272')\"\n",
              "            title=\"Convert this dataframe to an interactive table.\"\n",
              "            style=\"display:none;\">\n",
              "\n",
              "  <svg xmlns=\"http://www.w3.org/2000/svg\" height=\"24px\" viewBox=\"0 -960 960 960\">\n",
              "    <path d=\"M120-120v-720h720v720H120Zm60-500h600v-160H180v160Zm220 220h160v-160H400v160Zm0 220h160v-160H400v160ZM180-400h160v-160H180v160Zm440 0h160v-160H620v160ZM180-180h160v-160H180v160Zm440 0h160v-160H620v160Z\"/>\n",
              "  </svg>\n",
              "    </button>\n",
              "\n",
              "  <style>\n",
              "    .colab-df-container {\n",
              "      display:flex;\n",
              "      gap: 12px;\n",
              "    }\n",
              "\n",
              "    .colab-df-convert {\n",
              "      background-color: #E8F0FE;\n",
              "      border: none;\n",
              "      border-radius: 50%;\n",
              "      cursor: pointer;\n",
              "      display: none;\n",
              "      fill: #1967D2;\n",
              "      height: 32px;\n",
              "      padding: 0 0 0 0;\n",
              "      width: 32px;\n",
              "    }\n",
              "\n",
              "    .colab-df-convert:hover {\n",
              "      background-color: #E2EBFA;\n",
              "      box-shadow: 0px 1px 2px rgba(60, 64, 67, 0.3), 0px 1px 3px 1px rgba(60, 64, 67, 0.15);\n",
              "      fill: #174EA6;\n",
              "    }\n",
              "\n",
              "    .colab-df-buttons div {\n",
              "      margin-bottom: 4px;\n",
              "    }\n",
              "\n",
              "    [theme=dark] .colab-df-convert {\n",
              "      background-color: #3B4455;\n",
              "      fill: #D2E3FC;\n",
              "    }\n",
              "\n",
              "    [theme=dark] .colab-df-convert:hover {\n",
              "      background-color: #434B5C;\n",
              "      box-shadow: 0px 1px 3px 1px rgba(0, 0, 0, 0.15);\n",
              "      filter: drop-shadow(0px 1px 2px rgba(0, 0, 0, 0.3));\n",
              "      fill: #FFFFFF;\n",
              "    }\n",
              "  </style>\n",
              "\n",
              "    <script>\n",
              "      const buttonEl =\n",
              "        document.querySelector('#df-37fbba6b-bbc1-482b-9acb-24f6c915b272 button.colab-df-convert');\n",
              "      buttonEl.style.display =\n",
              "        google.colab.kernel.accessAllowed ? 'block' : 'none';\n",
              "\n",
              "      async function convertToInteractive(key) {\n",
              "        const element = document.querySelector('#df-37fbba6b-bbc1-482b-9acb-24f6c915b272');\n",
              "        const dataTable =\n",
              "          await google.colab.kernel.invokeFunction('convertToInteractive',\n",
              "                                                    [key], {});\n",
              "        if (!dataTable) return;\n",
              "\n",
              "        const docLinkHtml = 'Like what you see? Visit the ' +\n",
              "          '<a target=\"_blank\" href=https://colab.research.google.com/notebooks/data_table.ipynb>data table notebook</a>'\n",
              "          + ' to learn more about interactive tables.';\n",
              "        element.innerHTML = '';\n",
              "        dataTable['output_type'] = 'display_data';\n",
              "        await google.colab.output.renderOutput(dataTable, element);\n",
              "        const docLink = document.createElement('div');\n",
              "        docLink.innerHTML = docLinkHtml;\n",
              "        element.appendChild(docLink);\n",
              "      }\n",
              "    </script>\n",
              "  </div>\n",
              "\n",
              "\n",
              "<div id=\"df-e91c6fb2-1344-4060-aacc-e63cba3315dd\">\n",
              "  <button class=\"colab-df-quickchart\" onclick=\"quickchart('df-e91c6fb2-1344-4060-aacc-e63cba3315dd')\"\n",
              "            title=\"Suggest charts.\"\n",
              "            style=\"display:none;\">\n",
              "\n",
              "<svg xmlns=\"http://www.w3.org/2000/svg\" height=\"24px\"viewBox=\"0 0 24 24\"\n",
              "     width=\"24px\">\n",
              "    <g>\n",
              "        <path d=\"M19 3H5c-1.1 0-2 .9-2 2v14c0 1.1.9 2 2 2h14c1.1 0 2-.9 2-2V5c0-1.1-.9-2-2-2zM9 17H7v-7h2v7zm4 0h-2V7h2v10zm4 0h-2v-4h2v4z\"/>\n",
              "    </g>\n",
              "</svg>\n",
              "  </button>\n",
              "\n",
              "<style>\n",
              "  .colab-df-quickchart {\n",
              "    background-color: #E8F0FE;\n",
              "    border: none;\n",
              "    border-radius: 50%;\n",
              "    cursor: pointer;\n",
              "    display: none;\n",
              "    fill: #1967D2;\n",
              "    height: 32px;\n",
              "    padding: 0 0 0 0;\n",
              "    width: 32px;\n",
              "  }\n",
              "\n",
              "  .colab-df-quickchart:hover {\n",
              "    background-color: #E2EBFA;\n",
              "    box-shadow: 0px 1px 2px rgba(60, 64, 67, 0.3), 0px 1px 3px 1px rgba(60, 64, 67, 0.15);\n",
              "    fill: #174EA6;\n",
              "  }\n",
              "\n",
              "  [theme=dark] .colab-df-quickchart {\n",
              "    background-color: #3B4455;\n",
              "    fill: #D2E3FC;\n",
              "  }\n",
              "\n",
              "  [theme=dark] .colab-df-quickchart:hover {\n",
              "    background-color: #434B5C;\n",
              "    box-shadow: 0px 1px 3px 1px rgba(0, 0, 0, 0.15);\n",
              "    filter: drop-shadow(0px 1px 2px rgba(0, 0, 0, 0.3));\n",
              "    fill: #FFFFFF;\n",
              "  }\n",
              "</style>\n",
              "\n",
              "  <script>\n",
              "    async function quickchart(key) {\n",
              "      const charts = await google.colab.kernel.invokeFunction(\n",
              "          'suggestCharts', [key], {});\n",
              "    }\n",
              "    (() => {\n",
              "      let quickchartButtonEl =\n",
              "        document.querySelector('#df-e91c6fb2-1344-4060-aacc-e63cba3315dd button');\n",
              "      quickchartButtonEl.style.display =\n",
              "        google.colab.kernel.accessAllowed ? 'block' : 'none';\n",
              "    })();\n",
              "  </script>\n",
              "</div>\n",
              "    </div>\n",
              "  </div>\n"
            ]
          },
          "metadata": {},
          "execution_count": 6
        }
      ]
    },
    {
      "cell_type": "code",
      "source": [
        "# melted_df = pd.melt(df, id_vars=['customer_id', 'daily_usage'], var_name='day_no', value_name='data_usage')\n",
        "\n",
        "# pivoted_df = melted_df.pivot_table(index=['customer_id', 'day_no'], columns='daily_usage', values='data_usage', aggfunc='first')\n",
        "\n",
        "# pivoted_df = pivoted_df.reset_index()\n",
        "\n",
        "\n",
        "# pivoted_df.columns.name = None\n",
        "# pivoted_df.columns = ['customer_id', 'day_no'] + [f\"{app}\" for app in pivoted_df.columns[2:]]\n",
        "\n",
        "# pivoted_df.head(15)\n",
        "\n",
        "# melted_df = pd.melt(df, id_vars=['customer_id', 'daily_usage'], var_name='day_no', value_name='data_usage')\n",
        "\n",
        "# # Pivot the melted dataframe to get application names as columns\n",
        "# pivoted_df = melted_df.pivot_table(index=['customer_id', 'day_no'], columns='daily_usage', values='data_usage', aggfunc='first')\n",
        "\n",
        "# # Reset index to bring 'customer_id' and 'day_no' back as columns\n",
        "# pivoted_df = pivoted_df.reset_index()\n",
        "\n",
        "# # Rename the columns for application names\n",
        "# pivoted_df.columns.name = None\n",
        "# pivoted_df.columns = ['customer_id', 'day_no'] + [f\"{app}\" for app in pivoted_df.columns[2:]]\n",
        "\n",
        "# pivoted_df['day_no'] = pivoted_df['day_no'].astype(int)\n",
        "# pivoted_df = pivoted_df.sort_values(by=['customer_id', 'day_no'])\n",
        "\n",
        "# # Reset index again after sorting\n",
        "# pivoted_df = pivoted_df.reset_index(drop=True)\n",
        "\n",
        "# # Assuming 'pivoted_df' is the final transformed dataframe\n",
        "# pivoted_df.head(20)\n",
        "\n",
        "# melted_df = pd.melt(df, id_vars=['customer_id', 'daily_usage'], var_name='day_no', value_name='data_usage')\n",
        "\n",
        "# pivoted_df = melted_df.pivot_table(index=['customer_id', 'day_no'], columns='daily_usage', values='data_usage', aggfunc='first')\n",
        "\n",
        "# pivoted_df = pivoted_df.reset_index()\n",
        "\n",
        "# pivoted_df.columns.name = None\n",
        "# pivoted_df.columns = ['customer_id', 'day_no'] + [f\"{app}\" for app in pivoted_df.columns[2:]]\n",
        "# pivoted_df['day_no'] = pivoted_df['day_no'].str.extract('(\\d+)').astype(int)\n",
        "# pivoted_df = pivoted_df.sort_values(by=['customer_id', 'day_no'])\n",
        "\n",
        "# pivoted_df = pivoted_df.reset_index(drop=True)\n",
        "# print(pivoted_df.head(20))\n",
        "\n"
      ],
      "metadata": {
        "id": "YgwDghpiuj_B"
      },
      "execution_count": null,
      "outputs": []
    },
    {
      "cell_type": "code",
      "source": [
        "pivoted_df"
      ],
      "metadata": {
        "id": "wx0TRcDay7Rp"
      },
      "execution_count": null,
      "outputs": []
    },
    {
      "cell_type": "code",
      "source": [
        "missing_values = df.isna().sum()\n",
        "print(missing_values)\n",
        "missing_percentages = (df.isnull().sum() / len(df)) * 100\n",
        "print(missing_percentages)"
      ],
      "metadata": {
        "colab": {
          "base_uri": "https://localhost:8080/"
        },
        "id": "mYKaqiOZy9ln",
        "outputId": "d82614e0-564d-4178-f7ac-5fe9070a098f"
      },
      "execution_count": null,
      "outputs": [
        {
          "output_type": "stream",
          "name": "stdout",
          "text": [
            "customer_id                  0\n",
            "day_no                       0\n",
            "usage_app_facebook_daily     0\n",
            "usage_app_helakuru_daily     0\n",
            "usage_app_other              0\n",
            "usage_app_tiktok_daily       0\n",
            "usage_app_whatsapp_daily     0\n",
            "usage_app_youtube_daily      0\n",
            "usage_pack_data              0\n",
            "usage_pack_vas               0\n",
            "usage_voice_d2d_incoming     0\n",
            "usage_voice_d2d_outgoing     0\n",
            "usage_voice_d2nd_outgoing    0\n",
            "usage_voice_nd2d_incoming    0\n",
            "dtype: int64\n",
            "customer_id                  0.0\n",
            "day_no                       0.0\n",
            "usage_app_facebook_daily     0.0\n",
            "usage_app_helakuru_daily     0.0\n",
            "usage_app_other              0.0\n",
            "usage_app_tiktok_daily       0.0\n",
            "usage_app_whatsapp_daily     0.0\n",
            "usage_app_youtube_daily      0.0\n",
            "usage_pack_data              0.0\n",
            "usage_pack_vas               0.0\n",
            "usage_voice_d2d_incoming     0.0\n",
            "usage_voice_d2d_outgoing     0.0\n",
            "usage_voice_d2nd_outgoing    0.0\n",
            "usage_voice_nd2d_incoming    0.0\n",
            "dtype: float64\n"
          ]
        }
      ]
    },
    {
      "cell_type": "code",
      "source": [
        "customer_ids = pivoted_df['customer_id']\n",
        "days = pivoted_df['day_no']\n",
        "data_without_id = pivoted_df.drop(columns=['customer_id','day_no'])\n",
        "\n",
        "imputer = SimpleImputer(strategy='mean')\n",
        "data_imputed = imputer.fit_transform(data_without_id)\n",
        "\n",
        "imputed_df = pd.DataFrame(data_imputed, columns=data_without_id.columns)\n",
        "imputed_df.insert(0, 'customer_id', customer_ids)\n",
        "#imputed_df.insert(1, 'day_no', days) This one left as a comment because at first we did not convert the day values to numerical values\n",
        "imputed_df.to_csv('imputed_data.csv', index=False)"
      ],
      "metadata": {
        "id": "tJGEG_vQBLLq"
      },
      "execution_count": null,
      "outputs": []
    },
    {
      "cell_type": "code",
      "source": [
        "df.dtypes"
      ],
      "metadata": {
        "id": "rGUydX7jI6xn"
      },
      "execution_count": null,
      "outputs": []
    },
    {
      "cell_type": "code",
      "source": [
        "customer_id_column = df['customer_id']\n",
        "day_no_column = df['day_no']\n",
        "columns_to_normalize = df.columns.difference(['customer_id','day_no'])\n",
        "\n",
        "# Extract the columns you want to normalize using double square brackets\n",
        "features = df[columns_to_normalize]\n",
        "\n",
        "# Create a StandardScaler instance\n",
        "scaler = MinMaxScaler()\n",
        "\n",
        "# Fit the scaler on your feature data to compute mean and standard deviation\n",
        "scaler.fit(features)\n",
        "\n",
        "# Transform the features to have zero mean and unit variance\n",
        "normalized_features = scaler.transform(features)\n",
        "scaled_data = scaler.fit_transform(features)\n",
        "\n",
        "# Create a new DataFrame with normalized features\n",
        "normalized_data = pd.DataFrame(normalized_features, columns=columns_to_normalize)\n",
        "\n",
        "# Combine the customer_id column with the normalized features\n",
        "normalized_data = pd.concat([customer_id_column,day_no_column, normalized_data], axis=1)"
      ],
      "metadata": {
        "id": "iGHMpvHjM0Py"
      },
      "execution_count": null,
      "outputs": []
    },
    {
      "cell_type": "code",
      "source": [
        "normalized_data"
      ],
      "metadata": {
        "colab": {
          "base_uri": "https://localhost:8080/",
          "height": 443
        },
        "id": "ECQAsP5yPPeC",
        "outputId": "d1488819-801b-4a4c-a271-4e5fffd58fae"
      },
      "execution_count": null,
      "outputs": [
        {
          "output_type": "execute_result",
          "data": {
            "text/plain": [
              "                                               customer_id  day_no  \\\n",
              "0        0000f727854b50bb95c054b39c1fe5c92e5ebcfa4bcb5d...       1   \n",
              "1        0000f727854b50bb95c054b39c1fe5c92e5ebcfa4bcb5d...       2   \n",
              "2        0000f727854b50bb95c054b39c1fe5c92e5ebcfa4bcb5d...       3   \n",
              "3        0000f727854b50bb95c054b39c1fe5c92e5ebcfa4bcb5d...       4   \n",
              "4        0000f727854b50bb95c054b39c1fe5c92e5ebcfa4bcb5d...       5   \n",
              "...                                                    ...     ...   \n",
              "4680355  fffff7f18e3f2477c5c981222df6260c01b0e9324cfc87...      86   \n",
              "4680356  fffff7f18e3f2477c5c981222df6260c01b0e9324cfc87...      87   \n",
              "4680357  fffff7f18e3f2477c5c981222df6260c01b0e9324cfc87...      88   \n",
              "4680358  fffff7f18e3f2477c5c981222df6260c01b0e9324cfc87...      89   \n",
              "4680359  fffff7f18e3f2477c5c981222df6260c01b0e9324cfc87...      90   \n",
              "\n",
              "         usage_app_facebook_daily  usage_app_helakuru_daily  usage_app_other  \\\n",
              "0                        0.034228                  0.127541         0.068761   \n",
              "1                        0.000000                  0.229518         0.024215   \n",
              "2                        0.075897                  0.047463         0.058139   \n",
              "3                        0.149098                  0.000000         0.052042   \n",
              "4                        0.054631                  0.109697         0.051095   \n",
              "...                           ...                       ...              ...   \n",
              "4680355                  0.157741                  0.190405         0.130595   \n",
              "4680356                  0.187128                  0.193792         0.194379   \n",
              "4680357                  0.194052                  0.192965         0.178138   \n",
              "4680358                  0.191510                  0.197140         0.147219   \n",
              "4680359                  0.138649                  0.200291         0.193113   \n",
              "\n",
              "         usage_app_tiktok_daily  usage_app_whatsapp_daily  \\\n",
              "0                      0.025969                  0.047972   \n",
              "1                      0.183182                  0.025379   \n",
              "2                      0.109969                  0.041225   \n",
              "3                      0.065586                  0.036597   \n",
              "4                      0.321732                  0.039382   \n",
              "...                         ...                       ...   \n",
              "4680355                0.000000                  0.000000   \n",
              "4680356                0.000000                  0.045697   \n",
              "4680357                0.000000                  0.000000   \n",
              "4680358                0.000000                  0.000000   \n",
              "4680359                0.000000                  0.000000   \n",
              "\n",
              "         usage_app_youtube_daily  usage_pack_data  usage_pack_vas  \\\n",
              "0                       0.000000         0.042677        0.061548   \n",
              "1                       0.085401         0.042287        0.032338   \n",
              "2                       0.096589         0.041917        0.064675   \n",
              "3                       0.000000         0.042304        0.044422   \n",
              "4                       0.110558         0.042431        0.039784   \n",
              "...                          ...              ...             ...   \n",
              "4680355                 0.092171         0.020511        0.000000   \n",
              "4680356                 0.080646         0.000000        0.000000   \n",
              "4680357                 0.078561         0.065680        0.000000   \n",
              "4680358                 0.083820         0.110086        0.000000   \n",
              "4680359                 0.075634         0.000000        0.000000   \n",
              "\n",
              "         usage_voice_d2d_incoming  usage_voice_d2d_outgoing  \\\n",
              "0                        0.072048                  0.126616   \n",
              "1                        0.012551                  0.153820   \n",
              "2                        0.055671                  0.223252   \n",
              "3                        0.045442                  0.490803   \n",
              "4                        0.023209                  0.000000   \n",
              "...                           ...                       ...   \n",
              "4680355                  0.063908                  0.098935   \n",
              "4680356                  0.113430                  0.026862   \n",
              "4680357                  0.063478                  0.021399   \n",
              "4680358                  0.017392                  0.162288   \n",
              "4680359                  0.050615                  0.087461   \n",
              "\n",
              "         usage_voice_d2nd_outgoing  usage_voice_nd2d_incoming  \n",
              "0                         0.076843                   0.022298  \n",
              "1                         0.036848                   0.035225  \n",
              "2                         0.039445                   0.032925  \n",
              "3                         0.060092                   0.042168  \n",
              "4                         0.081532                   0.035672  \n",
              "...                            ...                        ...  \n",
              "4680355                   0.000000                   0.000000  \n",
              "4680356                   0.000000                   0.000000  \n",
              "4680357                   0.000000                   0.000000  \n",
              "4680358                   0.000000                   0.000000  \n",
              "4680359                   0.082985                   0.000000  \n",
              "\n",
              "[4680360 rows x 14 columns]"
            ],
            "text/html": [
              "\n",
              "  <div id=\"df-5e4f2088-326b-4bb8-96b6-c1ea0d601307\" class=\"colab-df-container\">\n",
              "    <div>\n",
              "<style scoped>\n",
              "    .dataframe tbody tr th:only-of-type {\n",
              "        vertical-align: middle;\n",
              "    }\n",
              "\n",
              "    .dataframe tbody tr th {\n",
              "        vertical-align: top;\n",
              "    }\n",
              "\n",
              "    .dataframe thead th {\n",
              "        text-align: right;\n",
              "    }\n",
              "</style>\n",
              "<table border=\"1\" class=\"dataframe\">\n",
              "  <thead>\n",
              "    <tr style=\"text-align: right;\">\n",
              "      <th></th>\n",
              "      <th>customer_id</th>\n",
              "      <th>day_no</th>\n",
              "      <th>usage_app_facebook_daily</th>\n",
              "      <th>usage_app_helakuru_daily</th>\n",
              "      <th>usage_app_other</th>\n",
              "      <th>usage_app_tiktok_daily</th>\n",
              "      <th>usage_app_whatsapp_daily</th>\n",
              "      <th>usage_app_youtube_daily</th>\n",
              "      <th>usage_pack_data</th>\n",
              "      <th>usage_pack_vas</th>\n",
              "      <th>usage_voice_d2d_incoming</th>\n",
              "      <th>usage_voice_d2d_outgoing</th>\n",
              "      <th>usage_voice_d2nd_outgoing</th>\n",
              "      <th>usage_voice_nd2d_incoming</th>\n",
              "    </tr>\n",
              "  </thead>\n",
              "  <tbody>\n",
              "    <tr>\n",
              "      <th>0</th>\n",
              "      <td>0000f727854b50bb95c054b39c1fe5c92e5ebcfa4bcb5d...</td>\n",
              "      <td>1</td>\n",
              "      <td>0.034228</td>\n",
              "      <td>0.127541</td>\n",
              "      <td>0.068761</td>\n",
              "      <td>0.025969</td>\n",
              "      <td>0.047972</td>\n",
              "      <td>0.000000</td>\n",
              "      <td>0.042677</td>\n",
              "      <td>0.061548</td>\n",
              "      <td>0.072048</td>\n",
              "      <td>0.126616</td>\n",
              "      <td>0.076843</td>\n",
              "      <td>0.022298</td>\n",
              "    </tr>\n",
              "    <tr>\n",
              "      <th>1</th>\n",
              "      <td>0000f727854b50bb95c054b39c1fe5c92e5ebcfa4bcb5d...</td>\n",
              "      <td>2</td>\n",
              "      <td>0.000000</td>\n",
              "      <td>0.229518</td>\n",
              "      <td>0.024215</td>\n",
              "      <td>0.183182</td>\n",
              "      <td>0.025379</td>\n",
              "      <td>0.085401</td>\n",
              "      <td>0.042287</td>\n",
              "      <td>0.032338</td>\n",
              "      <td>0.012551</td>\n",
              "      <td>0.153820</td>\n",
              "      <td>0.036848</td>\n",
              "      <td>0.035225</td>\n",
              "    </tr>\n",
              "    <tr>\n",
              "      <th>2</th>\n",
              "      <td>0000f727854b50bb95c054b39c1fe5c92e5ebcfa4bcb5d...</td>\n",
              "      <td>3</td>\n",
              "      <td>0.075897</td>\n",
              "      <td>0.047463</td>\n",
              "      <td>0.058139</td>\n",
              "      <td>0.109969</td>\n",
              "      <td>0.041225</td>\n",
              "      <td>0.096589</td>\n",
              "      <td>0.041917</td>\n",
              "      <td>0.064675</td>\n",
              "      <td>0.055671</td>\n",
              "      <td>0.223252</td>\n",
              "      <td>0.039445</td>\n",
              "      <td>0.032925</td>\n",
              "    </tr>\n",
              "    <tr>\n",
              "      <th>3</th>\n",
              "      <td>0000f727854b50bb95c054b39c1fe5c92e5ebcfa4bcb5d...</td>\n",
              "      <td>4</td>\n",
              "      <td>0.149098</td>\n",
              "      <td>0.000000</td>\n",
              "      <td>0.052042</td>\n",
              "      <td>0.065586</td>\n",
              "      <td>0.036597</td>\n",
              "      <td>0.000000</td>\n",
              "      <td>0.042304</td>\n",
              "      <td>0.044422</td>\n",
              "      <td>0.045442</td>\n",
              "      <td>0.490803</td>\n",
              "      <td>0.060092</td>\n",
              "      <td>0.042168</td>\n",
              "    </tr>\n",
              "    <tr>\n",
              "      <th>4</th>\n",
              "      <td>0000f727854b50bb95c054b39c1fe5c92e5ebcfa4bcb5d...</td>\n",
              "      <td>5</td>\n",
              "      <td>0.054631</td>\n",
              "      <td>0.109697</td>\n",
              "      <td>0.051095</td>\n",
              "      <td>0.321732</td>\n",
              "      <td>0.039382</td>\n",
              "      <td>0.110558</td>\n",
              "      <td>0.042431</td>\n",
              "      <td>0.039784</td>\n",
              "      <td>0.023209</td>\n",
              "      <td>0.000000</td>\n",
              "      <td>0.081532</td>\n",
              "      <td>0.035672</td>\n",
              "    </tr>\n",
              "    <tr>\n",
              "      <th>...</th>\n",
              "      <td>...</td>\n",
              "      <td>...</td>\n",
              "      <td>...</td>\n",
              "      <td>...</td>\n",
              "      <td>...</td>\n",
              "      <td>...</td>\n",
              "      <td>...</td>\n",
              "      <td>...</td>\n",
              "      <td>...</td>\n",
              "      <td>...</td>\n",
              "      <td>...</td>\n",
              "      <td>...</td>\n",
              "      <td>...</td>\n",
              "      <td>...</td>\n",
              "    </tr>\n",
              "    <tr>\n",
              "      <th>4680355</th>\n",
              "      <td>fffff7f18e3f2477c5c981222df6260c01b0e9324cfc87...</td>\n",
              "      <td>86</td>\n",
              "      <td>0.157741</td>\n",
              "      <td>0.190405</td>\n",
              "      <td>0.130595</td>\n",
              "      <td>0.000000</td>\n",
              "      <td>0.000000</td>\n",
              "      <td>0.092171</td>\n",
              "      <td>0.020511</td>\n",
              "      <td>0.000000</td>\n",
              "      <td>0.063908</td>\n",
              "      <td>0.098935</td>\n",
              "      <td>0.000000</td>\n",
              "      <td>0.000000</td>\n",
              "    </tr>\n",
              "    <tr>\n",
              "      <th>4680356</th>\n",
              "      <td>fffff7f18e3f2477c5c981222df6260c01b0e9324cfc87...</td>\n",
              "      <td>87</td>\n",
              "      <td>0.187128</td>\n",
              "      <td>0.193792</td>\n",
              "      <td>0.194379</td>\n",
              "      <td>0.000000</td>\n",
              "      <td>0.045697</td>\n",
              "      <td>0.080646</td>\n",
              "      <td>0.000000</td>\n",
              "      <td>0.000000</td>\n",
              "      <td>0.113430</td>\n",
              "      <td>0.026862</td>\n",
              "      <td>0.000000</td>\n",
              "      <td>0.000000</td>\n",
              "    </tr>\n",
              "    <tr>\n",
              "      <th>4680357</th>\n",
              "      <td>fffff7f18e3f2477c5c981222df6260c01b0e9324cfc87...</td>\n",
              "      <td>88</td>\n",
              "      <td>0.194052</td>\n",
              "      <td>0.192965</td>\n",
              "      <td>0.178138</td>\n",
              "      <td>0.000000</td>\n",
              "      <td>0.000000</td>\n",
              "      <td>0.078561</td>\n",
              "      <td>0.065680</td>\n",
              "      <td>0.000000</td>\n",
              "      <td>0.063478</td>\n",
              "      <td>0.021399</td>\n",
              "      <td>0.000000</td>\n",
              "      <td>0.000000</td>\n",
              "    </tr>\n",
              "    <tr>\n",
              "      <th>4680358</th>\n",
              "      <td>fffff7f18e3f2477c5c981222df6260c01b0e9324cfc87...</td>\n",
              "      <td>89</td>\n",
              "      <td>0.191510</td>\n",
              "      <td>0.197140</td>\n",
              "      <td>0.147219</td>\n",
              "      <td>0.000000</td>\n",
              "      <td>0.000000</td>\n",
              "      <td>0.083820</td>\n",
              "      <td>0.110086</td>\n",
              "      <td>0.000000</td>\n",
              "      <td>0.017392</td>\n",
              "      <td>0.162288</td>\n",
              "      <td>0.000000</td>\n",
              "      <td>0.000000</td>\n",
              "    </tr>\n",
              "    <tr>\n",
              "      <th>4680359</th>\n",
              "      <td>fffff7f18e3f2477c5c981222df6260c01b0e9324cfc87...</td>\n",
              "      <td>90</td>\n",
              "      <td>0.138649</td>\n",
              "      <td>0.200291</td>\n",
              "      <td>0.193113</td>\n",
              "      <td>0.000000</td>\n",
              "      <td>0.000000</td>\n",
              "      <td>0.075634</td>\n",
              "      <td>0.000000</td>\n",
              "      <td>0.000000</td>\n",
              "      <td>0.050615</td>\n",
              "      <td>0.087461</td>\n",
              "      <td>0.082985</td>\n",
              "      <td>0.000000</td>\n",
              "    </tr>\n",
              "  </tbody>\n",
              "</table>\n",
              "<p>4680360 rows × 14 columns</p>\n",
              "</div>\n",
              "    <div class=\"colab-df-buttons\">\n",
              "\n",
              "  <div class=\"colab-df-container\">\n",
              "    <button class=\"colab-df-convert\" onclick=\"convertToInteractive('df-5e4f2088-326b-4bb8-96b6-c1ea0d601307')\"\n",
              "            title=\"Convert this dataframe to an interactive table.\"\n",
              "            style=\"display:none;\">\n",
              "\n",
              "  <svg xmlns=\"http://www.w3.org/2000/svg\" height=\"24px\" viewBox=\"0 -960 960 960\">\n",
              "    <path d=\"M120-120v-720h720v720H120Zm60-500h600v-160H180v160Zm220 220h160v-160H400v160Zm0 220h160v-160H400v160ZM180-400h160v-160H180v160Zm440 0h160v-160H620v160ZM180-180h160v-160H180v160Zm440 0h160v-160H620v160Z\"/>\n",
              "  </svg>\n",
              "    </button>\n",
              "\n",
              "  <style>\n",
              "    .colab-df-container {\n",
              "      display:flex;\n",
              "      gap: 12px;\n",
              "    }\n",
              "\n",
              "    .colab-df-convert {\n",
              "      background-color: #E8F0FE;\n",
              "      border: none;\n",
              "      border-radius: 50%;\n",
              "      cursor: pointer;\n",
              "      display: none;\n",
              "      fill: #1967D2;\n",
              "      height: 32px;\n",
              "      padding: 0 0 0 0;\n",
              "      width: 32px;\n",
              "    }\n",
              "\n",
              "    .colab-df-convert:hover {\n",
              "      background-color: #E2EBFA;\n",
              "      box-shadow: 0px 1px 2px rgba(60, 64, 67, 0.3), 0px 1px 3px 1px rgba(60, 64, 67, 0.15);\n",
              "      fill: #174EA6;\n",
              "    }\n",
              "\n",
              "    .colab-df-buttons div {\n",
              "      margin-bottom: 4px;\n",
              "    }\n",
              "\n",
              "    [theme=dark] .colab-df-convert {\n",
              "      background-color: #3B4455;\n",
              "      fill: #D2E3FC;\n",
              "    }\n",
              "\n",
              "    [theme=dark] .colab-df-convert:hover {\n",
              "      background-color: #434B5C;\n",
              "      box-shadow: 0px 1px 3px 1px rgba(0, 0, 0, 0.15);\n",
              "      filter: drop-shadow(0px 1px 2px rgba(0, 0, 0, 0.3));\n",
              "      fill: #FFFFFF;\n",
              "    }\n",
              "  </style>\n",
              "\n",
              "    <script>\n",
              "      const buttonEl =\n",
              "        document.querySelector('#df-5e4f2088-326b-4bb8-96b6-c1ea0d601307 button.colab-df-convert');\n",
              "      buttonEl.style.display =\n",
              "        google.colab.kernel.accessAllowed ? 'block' : 'none';\n",
              "\n",
              "      async function convertToInteractive(key) {\n",
              "        const element = document.querySelector('#df-5e4f2088-326b-4bb8-96b6-c1ea0d601307');\n",
              "        const dataTable =\n",
              "          await google.colab.kernel.invokeFunction('convertToInteractive',\n",
              "                                                    [key], {});\n",
              "        if (!dataTable) return;\n",
              "\n",
              "        const docLinkHtml = 'Like what you see? Visit the ' +\n",
              "          '<a target=\"_blank\" href=https://colab.research.google.com/notebooks/data_table.ipynb>data table notebook</a>'\n",
              "          + ' to learn more about interactive tables.';\n",
              "        element.innerHTML = '';\n",
              "        dataTable['output_type'] = 'display_data';\n",
              "        await google.colab.output.renderOutput(dataTable, element);\n",
              "        const docLink = document.createElement('div');\n",
              "        docLink.innerHTML = docLinkHtml;\n",
              "        element.appendChild(docLink);\n",
              "      }\n",
              "    </script>\n",
              "  </div>\n",
              "\n",
              "\n",
              "<div id=\"df-dec92644-3a7d-4a84-94bb-dde28225ef2d\">\n",
              "  <button class=\"colab-df-quickchart\" onclick=\"quickchart('df-dec92644-3a7d-4a84-94bb-dde28225ef2d')\"\n",
              "            title=\"Suggest charts.\"\n",
              "            style=\"display:none;\">\n",
              "\n",
              "<svg xmlns=\"http://www.w3.org/2000/svg\" height=\"24px\"viewBox=\"0 0 24 24\"\n",
              "     width=\"24px\">\n",
              "    <g>\n",
              "        <path d=\"M19 3H5c-1.1 0-2 .9-2 2v14c0 1.1.9 2 2 2h14c1.1 0 2-.9 2-2V5c0-1.1-.9-2-2-2zM9 17H7v-7h2v7zm4 0h-2V7h2v10zm4 0h-2v-4h2v4z\"/>\n",
              "    </g>\n",
              "</svg>\n",
              "  </button>\n",
              "\n",
              "<style>\n",
              "  .colab-df-quickchart {\n",
              "    background-color: #E8F0FE;\n",
              "    border: none;\n",
              "    border-radius: 50%;\n",
              "    cursor: pointer;\n",
              "    display: none;\n",
              "    fill: #1967D2;\n",
              "    height: 32px;\n",
              "    padding: 0 0 0 0;\n",
              "    width: 32px;\n",
              "  }\n",
              "\n",
              "  .colab-df-quickchart:hover {\n",
              "    background-color: #E2EBFA;\n",
              "    box-shadow: 0px 1px 2px rgba(60, 64, 67, 0.3), 0px 1px 3px 1px rgba(60, 64, 67, 0.15);\n",
              "    fill: #174EA6;\n",
              "  }\n",
              "\n",
              "  [theme=dark] .colab-df-quickchart {\n",
              "    background-color: #3B4455;\n",
              "    fill: #D2E3FC;\n",
              "  }\n",
              "\n",
              "  [theme=dark] .colab-df-quickchart:hover {\n",
              "    background-color: #434B5C;\n",
              "    box-shadow: 0px 1px 3px 1px rgba(0, 0, 0, 0.15);\n",
              "    filter: drop-shadow(0px 1px 2px rgba(0, 0, 0, 0.3));\n",
              "    fill: #FFFFFF;\n",
              "  }\n",
              "</style>\n",
              "\n",
              "  <script>\n",
              "    async function quickchart(key) {\n",
              "      const charts = await google.colab.kernel.invokeFunction(\n",
              "          'suggestCharts', [key], {});\n",
              "    }\n",
              "    (() => {\n",
              "      let quickchartButtonEl =\n",
              "        document.querySelector('#df-dec92644-3a7d-4a84-94bb-dde28225ef2d button');\n",
              "      quickchartButtonEl.style.display =\n",
              "        google.colab.kernel.accessAllowed ? 'block' : 'none';\n",
              "    })();\n",
              "  </script>\n",
              "</div>\n",
              "    </div>\n",
              "  </div>\n"
            ]
          },
          "metadata": {},
          "execution_count": 9
        }
      ]
    },
    {
      "cell_type": "code",
      "source": [
        "averages_df = normalized_data.groupby('customer_id').mean().reset_index()\n",
        "\n",
        "# Print the resulting DataFrame\n",
        "averages_df"
      ],
      "metadata": {
        "colab": {
          "base_uri": "https://localhost:8080/",
          "height": 443
        },
        "id": "yQ-LTtC-j9AU",
        "outputId": "21ff0bcd-6280-46cb-878a-c0a0ef745708"
      },
      "execution_count": null,
      "outputs": [
        {
          "output_type": "execute_result",
          "data": {
            "text/plain": [
              "                                             customer_id  day_no  \\\n",
              "0      0000f727854b50bb95c054b39c1fe5c92e5ebcfa4bcb5d...    45.5   \n",
              "1      0001702d0abcdbeeb23f7c434aa6858030f365caf1464a...    45.5   \n",
              "2      0001ae52a920c36edc7ab364ea58a58ca725f0ad44c02b...    45.5   \n",
              "3      0002511664bff302e40b19ed6872ad4390ac59901e55e2...    45.5   \n",
              "4      0003dbd80ea9a5fb7a2efabdb984c5fa75450cda717e39...    45.5   \n",
              "...                                                  ...     ...   \n",
              "51999  fff948ff9ad56e065cf0d41edf21e662a1e922c1164316...    45.5   \n",
              "52000  fff97955ee8ec52258c16d0cd8b4aaa78179e6919e3620...    45.5   \n",
              "52001  fffe405de842df7e82d3a610b0917dfd79fc2fd526cfbe...    45.5   \n",
              "52002  ffffc7a636e58b3c81ca8d4c7869ab1b109c84d29d8f33...    45.5   \n",
              "52003  fffff7f18e3f2477c5c981222df6260c01b0e9324cfc87...    45.5   \n",
              "\n",
              "       usage_app_facebook_daily  usage_app_helakuru_daily  usage_app_other  \\\n",
              "0                      0.060077                  0.114173         0.063259   \n",
              "1                      0.026701                  0.016752         0.018206   \n",
              "2                      0.015384                  0.017191         0.097495   \n",
              "3                      0.023840                  0.075551         0.057202   \n",
              "4                      0.070738                  0.073752         0.037369   \n",
              "...                         ...                       ...              ...   \n",
              "51999                  0.012613                  0.003306         0.072923   \n",
              "52000                  0.085965                  0.005373         0.009126   \n",
              "52001                  0.042992                  0.082851         0.056996   \n",
              "52002                  0.021592                  0.005648         0.069863   \n",
              "52003                  0.082268                  0.087698         0.068315   \n",
              "\n",
              "       usage_app_tiktok_daily  usage_app_whatsapp_daily  \\\n",
              "0                    0.108895                  0.004411   \n",
              "1                    0.094983                  0.005684   \n",
              "2                    0.079635                  0.012873   \n",
              "3                    0.077689                  0.058769   \n",
              "4                    0.094547                  0.083770   \n",
              "...                       ...                       ...   \n",
              "51999                0.007259                  0.076455   \n",
              "52000                0.017228                  0.003161   \n",
              "52001                0.111240                  0.040810   \n",
              "52002                0.052834                  0.041312   \n",
              "52003                0.005963                  0.058154   \n",
              "\n",
              "       usage_app_youtube_daily  usage_pack_data  usage_pack_vas  \\\n",
              "0                     0.114258         0.023566        0.074409   \n",
              "1                     0.018400         0.017806        0.005808   \n",
              "2                     0.044578         0.087213        0.021071   \n",
              "3                     0.040843         0.008889        0.074151   \n",
              "4                     0.055634         0.098719        0.052773   \n",
              "...                        ...              ...             ...   \n",
              "51999                 0.005677         0.008482        0.003377   \n",
              "52000                 0.014541         0.003736        0.018207   \n",
              "52001                 0.091964         0.073132        0.086810   \n",
              "52002                 0.055029         0.007591        0.090080   \n",
              "52003                 0.032200         0.066957        0.029310   \n",
              "\n",
              "       usage_voice_d2d_incoming  usage_voice_d2d_outgoing  \\\n",
              "0                      0.007563                  0.061809   \n",
              "1                      0.091961                  0.011041   \n",
              "2                      0.007828                  0.015572   \n",
              "3                      0.021269                  0.099751   \n",
              "4                      0.018596                  0.008460   \n",
              "...                         ...                       ...   \n",
              "51999                  0.048485                  0.010687   \n",
              "52000                  0.005895                  0.006418   \n",
              "52001                  0.055190                  0.104969   \n",
              "52002                  0.005158                  0.005452   \n",
              "52003                  0.020757                  0.081021   \n",
              "\n",
              "       usage_voice_d2nd_outgoing  usage_voice_nd2d_incoming  \n",
              "0                       0.066149                   0.030579  \n",
              "1                       0.006400                   0.033193  \n",
              "2                       0.057645                   0.046671  \n",
              "3                       0.054767                   0.024816  \n",
              "4                       0.028492                   0.018654  \n",
              "...                          ...                        ...  \n",
              "51999                   0.012646                   0.005516  \n",
              "52000                   0.009520                   0.017676  \n",
              "52001                   0.049501                   0.095257  \n",
              "52002                   0.016043                   0.065688  \n",
              "52003                   0.033765                   0.005285  \n",
              "\n",
              "[52004 rows x 14 columns]"
            ],
            "text/html": [
              "\n",
              "  <div id=\"df-626b55b7-c25f-467e-bc75-37e4fc827136\" class=\"colab-df-container\">\n",
              "    <div>\n",
              "<style scoped>\n",
              "    .dataframe tbody tr th:only-of-type {\n",
              "        vertical-align: middle;\n",
              "    }\n",
              "\n",
              "    .dataframe tbody tr th {\n",
              "        vertical-align: top;\n",
              "    }\n",
              "\n",
              "    .dataframe thead th {\n",
              "        text-align: right;\n",
              "    }\n",
              "</style>\n",
              "<table border=\"1\" class=\"dataframe\">\n",
              "  <thead>\n",
              "    <tr style=\"text-align: right;\">\n",
              "      <th></th>\n",
              "      <th>customer_id</th>\n",
              "      <th>day_no</th>\n",
              "      <th>usage_app_facebook_daily</th>\n",
              "      <th>usage_app_helakuru_daily</th>\n",
              "      <th>usage_app_other</th>\n",
              "      <th>usage_app_tiktok_daily</th>\n",
              "      <th>usage_app_whatsapp_daily</th>\n",
              "      <th>usage_app_youtube_daily</th>\n",
              "      <th>usage_pack_data</th>\n",
              "      <th>usage_pack_vas</th>\n",
              "      <th>usage_voice_d2d_incoming</th>\n",
              "      <th>usage_voice_d2d_outgoing</th>\n",
              "      <th>usage_voice_d2nd_outgoing</th>\n",
              "      <th>usage_voice_nd2d_incoming</th>\n",
              "    </tr>\n",
              "  </thead>\n",
              "  <tbody>\n",
              "    <tr>\n",
              "      <th>0</th>\n",
              "      <td>0000f727854b50bb95c054b39c1fe5c92e5ebcfa4bcb5d...</td>\n",
              "      <td>45.5</td>\n",
              "      <td>0.060077</td>\n",
              "      <td>0.114173</td>\n",
              "      <td>0.063259</td>\n",
              "      <td>0.108895</td>\n",
              "      <td>0.004411</td>\n",
              "      <td>0.114258</td>\n",
              "      <td>0.023566</td>\n",
              "      <td>0.074409</td>\n",
              "      <td>0.007563</td>\n",
              "      <td>0.061809</td>\n",
              "      <td>0.066149</td>\n",
              "      <td>0.030579</td>\n",
              "    </tr>\n",
              "    <tr>\n",
              "      <th>1</th>\n",
              "      <td>0001702d0abcdbeeb23f7c434aa6858030f365caf1464a...</td>\n",
              "      <td>45.5</td>\n",
              "      <td>0.026701</td>\n",
              "      <td>0.016752</td>\n",
              "      <td>0.018206</td>\n",
              "      <td>0.094983</td>\n",
              "      <td>0.005684</td>\n",
              "      <td>0.018400</td>\n",
              "      <td>0.017806</td>\n",
              "      <td>0.005808</td>\n",
              "      <td>0.091961</td>\n",
              "      <td>0.011041</td>\n",
              "      <td>0.006400</td>\n",
              "      <td>0.033193</td>\n",
              "    </tr>\n",
              "    <tr>\n",
              "      <th>2</th>\n",
              "      <td>0001ae52a920c36edc7ab364ea58a58ca725f0ad44c02b...</td>\n",
              "      <td>45.5</td>\n",
              "      <td>0.015384</td>\n",
              "      <td>0.017191</td>\n",
              "      <td>0.097495</td>\n",
              "      <td>0.079635</td>\n",
              "      <td>0.012873</td>\n",
              "      <td>0.044578</td>\n",
              "      <td>0.087213</td>\n",
              "      <td>0.021071</td>\n",
              "      <td>0.007828</td>\n",
              "      <td>0.015572</td>\n",
              "      <td>0.057645</td>\n",
              "      <td>0.046671</td>\n",
              "    </tr>\n",
              "    <tr>\n",
              "      <th>3</th>\n",
              "      <td>0002511664bff302e40b19ed6872ad4390ac59901e55e2...</td>\n",
              "      <td>45.5</td>\n",
              "      <td>0.023840</td>\n",
              "      <td>0.075551</td>\n",
              "      <td>0.057202</td>\n",
              "      <td>0.077689</td>\n",
              "      <td>0.058769</td>\n",
              "      <td>0.040843</td>\n",
              "      <td>0.008889</td>\n",
              "      <td>0.074151</td>\n",
              "      <td>0.021269</td>\n",
              "      <td>0.099751</td>\n",
              "      <td>0.054767</td>\n",
              "      <td>0.024816</td>\n",
              "    </tr>\n",
              "    <tr>\n",
              "      <th>4</th>\n",
              "      <td>0003dbd80ea9a5fb7a2efabdb984c5fa75450cda717e39...</td>\n",
              "      <td>45.5</td>\n",
              "      <td>0.070738</td>\n",
              "      <td>0.073752</td>\n",
              "      <td>0.037369</td>\n",
              "      <td>0.094547</td>\n",
              "      <td>0.083770</td>\n",
              "      <td>0.055634</td>\n",
              "      <td>0.098719</td>\n",
              "      <td>0.052773</td>\n",
              "      <td>0.018596</td>\n",
              "      <td>0.008460</td>\n",
              "      <td>0.028492</td>\n",
              "      <td>0.018654</td>\n",
              "    </tr>\n",
              "    <tr>\n",
              "      <th>...</th>\n",
              "      <td>...</td>\n",
              "      <td>...</td>\n",
              "      <td>...</td>\n",
              "      <td>...</td>\n",
              "      <td>...</td>\n",
              "      <td>...</td>\n",
              "      <td>...</td>\n",
              "      <td>...</td>\n",
              "      <td>...</td>\n",
              "      <td>...</td>\n",
              "      <td>...</td>\n",
              "      <td>...</td>\n",
              "      <td>...</td>\n",
              "      <td>...</td>\n",
              "    </tr>\n",
              "    <tr>\n",
              "      <th>51999</th>\n",
              "      <td>fff948ff9ad56e065cf0d41edf21e662a1e922c1164316...</td>\n",
              "      <td>45.5</td>\n",
              "      <td>0.012613</td>\n",
              "      <td>0.003306</td>\n",
              "      <td>0.072923</td>\n",
              "      <td>0.007259</td>\n",
              "      <td>0.076455</td>\n",
              "      <td>0.005677</td>\n",
              "      <td>0.008482</td>\n",
              "      <td>0.003377</td>\n",
              "      <td>0.048485</td>\n",
              "      <td>0.010687</td>\n",
              "      <td>0.012646</td>\n",
              "      <td>0.005516</td>\n",
              "    </tr>\n",
              "    <tr>\n",
              "      <th>52000</th>\n",
              "      <td>fff97955ee8ec52258c16d0cd8b4aaa78179e6919e3620...</td>\n",
              "      <td>45.5</td>\n",
              "      <td>0.085965</td>\n",
              "      <td>0.005373</td>\n",
              "      <td>0.009126</td>\n",
              "      <td>0.017228</td>\n",
              "      <td>0.003161</td>\n",
              "      <td>0.014541</td>\n",
              "      <td>0.003736</td>\n",
              "      <td>0.018207</td>\n",
              "      <td>0.005895</td>\n",
              "      <td>0.006418</td>\n",
              "      <td>0.009520</td>\n",
              "      <td>0.017676</td>\n",
              "    </tr>\n",
              "    <tr>\n",
              "      <th>52001</th>\n",
              "      <td>fffe405de842df7e82d3a610b0917dfd79fc2fd526cfbe...</td>\n",
              "      <td>45.5</td>\n",
              "      <td>0.042992</td>\n",
              "      <td>0.082851</td>\n",
              "      <td>0.056996</td>\n",
              "      <td>0.111240</td>\n",
              "      <td>0.040810</td>\n",
              "      <td>0.091964</td>\n",
              "      <td>0.073132</td>\n",
              "      <td>0.086810</td>\n",
              "      <td>0.055190</td>\n",
              "      <td>0.104969</td>\n",
              "      <td>0.049501</td>\n",
              "      <td>0.095257</td>\n",
              "    </tr>\n",
              "    <tr>\n",
              "      <th>52002</th>\n",
              "      <td>ffffc7a636e58b3c81ca8d4c7869ab1b109c84d29d8f33...</td>\n",
              "      <td>45.5</td>\n",
              "      <td>0.021592</td>\n",
              "      <td>0.005648</td>\n",
              "      <td>0.069863</td>\n",
              "      <td>0.052834</td>\n",
              "      <td>0.041312</td>\n",
              "      <td>0.055029</td>\n",
              "      <td>0.007591</td>\n",
              "      <td>0.090080</td>\n",
              "      <td>0.005158</td>\n",
              "      <td>0.005452</td>\n",
              "      <td>0.016043</td>\n",
              "      <td>0.065688</td>\n",
              "    </tr>\n",
              "    <tr>\n",
              "      <th>52003</th>\n",
              "      <td>fffff7f18e3f2477c5c981222df6260c01b0e9324cfc87...</td>\n",
              "      <td>45.5</td>\n",
              "      <td>0.082268</td>\n",
              "      <td>0.087698</td>\n",
              "      <td>0.068315</td>\n",
              "      <td>0.005963</td>\n",
              "      <td>0.058154</td>\n",
              "      <td>0.032200</td>\n",
              "      <td>0.066957</td>\n",
              "      <td>0.029310</td>\n",
              "      <td>0.020757</td>\n",
              "      <td>0.081021</td>\n",
              "      <td>0.033765</td>\n",
              "      <td>0.005285</td>\n",
              "    </tr>\n",
              "  </tbody>\n",
              "</table>\n",
              "<p>52004 rows × 14 columns</p>\n",
              "</div>\n",
              "    <div class=\"colab-df-buttons\">\n",
              "\n",
              "  <div class=\"colab-df-container\">\n",
              "    <button class=\"colab-df-convert\" onclick=\"convertToInteractive('df-626b55b7-c25f-467e-bc75-37e4fc827136')\"\n",
              "            title=\"Convert this dataframe to an interactive table.\"\n",
              "            style=\"display:none;\">\n",
              "\n",
              "  <svg xmlns=\"http://www.w3.org/2000/svg\" height=\"24px\" viewBox=\"0 -960 960 960\">\n",
              "    <path d=\"M120-120v-720h720v720H120Zm60-500h600v-160H180v160Zm220 220h160v-160H400v160Zm0 220h160v-160H400v160ZM180-400h160v-160H180v160Zm440 0h160v-160H620v160ZM180-180h160v-160H180v160Zm440 0h160v-160H620v160Z\"/>\n",
              "  </svg>\n",
              "    </button>\n",
              "\n",
              "  <style>\n",
              "    .colab-df-container {\n",
              "      display:flex;\n",
              "      gap: 12px;\n",
              "    }\n",
              "\n",
              "    .colab-df-convert {\n",
              "      background-color: #E8F0FE;\n",
              "      border: none;\n",
              "      border-radius: 50%;\n",
              "      cursor: pointer;\n",
              "      display: none;\n",
              "      fill: #1967D2;\n",
              "      height: 32px;\n",
              "      padding: 0 0 0 0;\n",
              "      width: 32px;\n",
              "    }\n",
              "\n",
              "    .colab-df-convert:hover {\n",
              "      background-color: #E2EBFA;\n",
              "      box-shadow: 0px 1px 2px rgba(60, 64, 67, 0.3), 0px 1px 3px 1px rgba(60, 64, 67, 0.15);\n",
              "      fill: #174EA6;\n",
              "    }\n",
              "\n",
              "    .colab-df-buttons div {\n",
              "      margin-bottom: 4px;\n",
              "    }\n",
              "\n",
              "    [theme=dark] .colab-df-convert {\n",
              "      background-color: #3B4455;\n",
              "      fill: #D2E3FC;\n",
              "    }\n",
              "\n",
              "    [theme=dark] .colab-df-convert:hover {\n",
              "      background-color: #434B5C;\n",
              "      box-shadow: 0px 1px 3px 1px rgba(0, 0, 0, 0.15);\n",
              "      filter: drop-shadow(0px 1px 2px rgba(0, 0, 0, 0.3));\n",
              "      fill: #FFFFFF;\n",
              "    }\n",
              "  </style>\n",
              "\n",
              "    <script>\n",
              "      const buttonEl =\n",
              "        document.querySelector('#df-626b55b7-c25f-467e-bc75-37e4fc827136 button.colab-df-convert');\n",
              "      buttonEl.style.display =\n",
              "        google.colab.kernel.accessAllowed ? 'block' : 'none';\n",
              "\n",
              "      async function convertToInteractive(key) {\n",
              "        const element = document.querySelector('#df-626b55b7-c25f-467e-bc75-37e4fc827136');\n",
              "        const dataTable =\n",
              "          await google.colab.kernel.invokeFunction('convertToInteractive',\n",
              "                                                    [key], {});\n",
              "        if (!dataTable) return;\n",
              "\n",
              "        const docLinkHtml = 'Like what you see? Visit the ' +\n",
              "          '<a target=\"_blank\" href=https://colab.research.google.com/notebooks/data_table.ipynb>data table notebook</a>'\n",
              "          + ' to learn more about interactive tables.';\n",
              "        element.innerHTML = '';\n",
              "        dataTable['output_type'] = 'display_data';\n",
              "        await google.colab.output.renderOutput(dataTable, element);\n",
              "        const docLink = document.createElement('div');\n",
              "        docLink.innerHTML = docLinkHtml;\n",
              "        element.appendChild(docLink);\n",
              "      }\n",
              "    </script>\n",
              "  </div>\n",
              "\n",
              "\n",
              "<div id=\"df-ca48e48d-3207-48c4-a61f-e76932f6103d\">\n",
              "  <button class=\"colab-df-quickchart\" onclick=\"quickchart('df-ca48e48d-3207-48c4-a61f-e76932f6103d')\"\n",
              "            title=\"Suggest charts.\"\n",
              "            style=\"display:none;\">\n",
              "\n",
              "<svg xmlns=\"http://www.w3.org/2000/svg\" height=\"24px\"viewBox=\"0 0 24 24\"\n",
              "     width=\"24px\">\n",
              "    <g>\n",
              "        <path d=\"M19 3H5c-1.1 0-2 .9-2 2v14c0 1.1.9 2 2 2h14c1.1 0 2-.9 2-2V5c0-1.1-.9-2-2-2zM9 17H7v-7h2v7zm4 0h-2V7h2v10zm4 0h-2v-4h2v4z\"/>\n",
              "    </g>\n",
              "</svg>\n",
              "  </button>\n",
              "\n",
              "<style>\n",
              "  .colab-df-quickchart {\n",
              "    background-color: #E8F0FE;\n",
              "    border: none;\n",
              "    border-radius: 50%;\n",
              "    cursor: pointer;\n",
              "    display: none;\n",
              "    fill: #1967D2;\n",
              "    height: 32px;\n",
              "    padding: 0 0 0 0;\n",
              "    width: 32px;\n",
              "  }\n",
              "\n",
              "  .colab-df-quickchart:hover {\n",
              "    background-color: #E2EBFA;\n",
              "    box-shadow: 0px 1px 2px rgba(60, 64, 67, 0.3), 0px 1px 3px 1px rgba(60, 64, 67, 0.15);\n",
              "    fill: #174EA6;\n",
              "  }\n",
              "\n",
              "  [theme=dark] .colab-df-quickchart {\n",
              "    background-color: #3B4455;\n",
              "    fill: #D2E3FC;\n",
              "  }\n",
              "\n",
              "  [theme=dark] .colab-df-quickchart:hover {\n",
              "    background-color: #434B5C;\n",
              "    box-shadow: 0px 1px 3px 1px rgba(0, 0, 0, 0.15);\n",
              "    filter: drop-shadow(0px 1px 2px rgba(0, 0, 0, 0.3));\n",
              "    fill: #FFFFFF;\n",
              "  }\n",
              "</style>\n",
              "\n",
              "  <script>\n",
              "    async function quickchart(key) {\n",
              "      const charts = await google.colab.kernel.invokeFunction(\n",
              "          'suggestCharts', [key], {});\n",
              "    }\n",
              "    (() => {\n",
              "      let quickchartButtonEl =\n",
              "        document.querySelector('#df-ca48e48d-3207-48c4-a61f-e76932f6103d button');\n",
              "      quickchartButtonEl.style.display =\n",
              "        google.colab.kernel.accessAllowed ? 'block' : 'none';\n",
              "    })();\n",
              "  </script>\n",
              "</div>\n",
              "    </div>\n",
              "  </div>\n"
            ]
          },
          "metadata": {},
          "execution_count": 110
        }
      ]
    },
    {
      "cell_type": "code",
      "source": [
        "scaled_data"
      ],
      "metadata": {
        "colab": {
          "base_uri": "https://localhost:8080/"
        },
        "id": "qQAZVU2dzwSH",
        "outputId": "9e70b3f5-e615-4009-a374-1320d35223a0"
      },
      "execution_count": null,
      "outputs": [
        {
          "output_type": "execute_result",
          "data": {
            "text/plain": [
              "array([[0.03422815, 0.12754057, 0.06876122, ..., 0.12661628, 0.0768435 ,\n",
              "        0.02229794],\n",
              "       [0.        , 0.22951788, 0.02421497, ..., 0.15381989, 0.0368479 ,\n",
              "        0.03522522],\n",
              "       [0.07589671, 0.04746337, 0.05813918, ..., 0.22325168, 0.0394453 ,\n",
              "        0.03292514],\n",
              "       ...,\n",
              "       [0.19405221, 0.19296518, 0.17813763, ..., 0.02139865, 0.        ,\n",
              "        0.        ],\n",
              "       [0.19150965, 0.19714038, 0.14721877, ..., 0.16228829, 0.        ,\n",
              "        0.        ],\n",
              "       [0.13864926, 0.20029148, 0.19311268, ..., 0.0874613 , 0.08298481,\n",
              "        0.        ]])"
            ]
          },
          "metadata": {},
          "execution_count": 10
        }
      ]
    },
    {
      "cell_type": "code",
      "source": [
        "scaled_data.shape"
      ],
      "metadata": {
        "colab": {
          "base_uri": "https://localhost:8080/"
        },
        "id": "DNn9t1nOJTsh",
        "outputId": "c7099c86-3c72-4bff-8e76-29533a5403d9"
      },
      "execution_count": null,
      "outputs": [
        {
          "output_type": "execute_result",
          "data": {
            "text/plain": [
              "(4680360, 12)"
            ]
          },
          "metadata": {},
          "execution_count": 11
        }
      ]
    },
    {
      "cell_type": "code",
      "source": [
        "features = scaled_data"
      ],
      "metadata": {
        "id": "g1ID-ulrJfzj"
      },
      "execution_count": null,
      "outputs": []
    },
    {
      "cell_type": "code",
      "source": [
        "targets = pd.read_csv('/content/drive/MyDrive/datathon/sorted_train_data.csv')"
      ],
      "metadata": {
        "id": "6PJAFgoJJ1zm"
      },
      "execution_count": null,
      "outputs": []
    },
    {
      "cell_type": "code",
      "source": [
        "target = targets['churn_status']"
      ],
      "metadata": {
        "id": "ZsJ2dc6dKBw-"
      },
      "execution_count": null,
      "outputs": []
    },
    {
      "cell_type": "code",
      "source": [
        "target.shape"
      ],
      "metadata": {
        "colab": {
          "base_uri": "https://localhost:8080/"
        },
        "id": "ZyUhD_exKOtX",
        "outputId": "78a64ed2-e049-4231-a756-fbb9731af345"
      },
      "execution_count": null,
      "outputs": [
        {
          "output_type": "execute_result",
          "data": {
            "text/plain": [
              "(52004,)"
            ]
          },
          "metadata": {},
          "execution_count": 15
        }
      ]
    },
    {
      "cell_type": "code",
      "source": [
        "i = features.shape[0] // 90\n",
        "reshaped_features = features.reshape(i, 90, 12)\n",
        "reshaped_features.shape"
      ],
      "metadata": {
        "colab": {
          "base_uri": "https://localhost:8080/"
        },
        "id": "QtHntzcuKVaP",
        "outputId": "d2b9c3a2-2ad1-4b5d-9029-a554e2c50cf1"
      },
      "execution_count": null,
      "outputs": [
        {
          "output_type": "execute_result",
          "data": {
            "text/plain": [
              "(52004, 90, 12)"
            ]
          },
          "metadata": {},
          "execution_count": 16
        }
      ]
    },
    {
      "cell_type": "code",
      "source": [
        "from sklearn.model_selection import train_test_split"
      ],
      "metadata": {
        "id": "a0utfrWULHW9"
      },
      "execution_count": null,
      "outputs": []
    },
    {
      "cell_type": "code",
      "source": [
        "x_train, x_test, y_train, y_test = train_test_split(reshaped_features, target, test_size=0.20, random_state=123, shuffle=False)"
      ],
      "metadata": {
        "id": "CuleN82CLN_9"
      },
      "execution_count": null,
      "outputs": []
    },
    {
      "cell_type": "code",
      "source": [
        "y_train_arr=np.array(y_train)\n",
        "y_test_arr = np.array(y_test)"
      ],
      "metadata": {
        "id": "fCkFo3PsOUDo"
      },
      "execution_count": null,
      "outputs": []
    },
    {
      "cell_type": "code",
      "source": [
        "x_train.shape"
      ],
      "metadata": {
        "colab": {
          "base_uri": "https://localhost:8080/"
        },
        "id": "VRmGwomjLd1-",
        "outputId": "9ab8489c-6828-43ac-cb85-413209850f14"
      },
      "execution_count": null,
      "outputs": [
        {
          "output_type": "execute_result",
          "data": {
            "text/plain": [
              "(41603, 90, 12)"
            ]
          },
          "metadata": {},
          "execution_count": 20
        }
      ]
    },
    {
      "cell_type": "code",
      "source": [
        "reshaped_x_train = x_train.reshape(3744270, 12)"
      ],
      "metadata": {
        "id": "x3EO3SjyLsOQ"
      },
      "execution_count": null,
      "outputs": []
    },
    {
      "cell_type": "code",
      "source": [
        "reshaped_x_train"
      ],
      "metadata": {
        "colab": {
          "base_uri": "https://localhost:8080/"
        },
        "id": "TmUmvDgQL5ai",
        "outputId": "35e779e9-9971-4247-a92b-5834c33e16ae"
      },
      "execution_count": null,
      "outputs": [
        {
          "output_type": "execute_result",
          "data": {
            "text/plain": [
              "array([[0.03422815, 0.12754057, 0.06876122, ..., 0.12661628, 0.0768435 ,\n",
              "        0.02229794],\n",
              "       [0.        , 0.22951788, 0.02421497, ..., 0.15381989, 0.0368479 ,\n",
              "        0.03522522],\n",
              "       [0.07589671, 0.04746337, 0.05813918, ..., 0.22325168, 0.0394453 ,\n",
              "        0.03292514],\n",
              "       ...,\n",
              "       [0.18346198, 0.09622656, 0.18579738, ..., 0.21935895, 0.        ,\n",
              "        0.12893196],\n",
              "       [0.17905789, 0.09350874, 0.27340874, ..., 0.22136223, 0.11919436,\n",
              "        0.05379619],\n",
              "       [0.28137344, 0.09559634, 0.12704249, ..., 0.23964214, 0.24893242,\n",
              "        0.16813971]])"
            ]
          },
          "metadata": {},
          "execution_count": 22
        }
      ]
    },
    {
      "cell_type": "code",
      "source": [
        "x_test.shape"
      ],
      "metadata": {
        "colab": {
          "base_uri": "https://localhost:8080/"
        },
        "id": "N3pt9J95L_Ni",
        "outputId": "8592f2a2-c6cf-4daf-f0aa-677ed063e1cf"
      },
      "execution_count": null,
      "outputs": [
        {
          "output_type": "execute_result",
          "data": {
            "text/plain": [
              "(10401, 90, 12)"
            ]
          },
          "metadata": {},
          "execution_count": 23
        }
      ]
    },
    {
      "cell_type": "code",
      "source": [
        "reshaped_x_test = x_test.reshape(936090, 12)"
      ],
      "metadata": {
        "id": "D4iSu1zNMKds"
      },
      "execution_count": null,
      "outputs": []
    },
    {
      "cell_type": "code",
      "source": [
        "reshaped_x_test[0]"
      ],
      "metadata": {
        "colab": {
          "base_uri": "https://localhost:8080/"
        },
        "id": "MNoVL-wzMTXU",
        "outputId": "31f091cc-de1f-46da-8e18-2ea403bae081"
      },
      "execution_count": null,
      "outputs": [
        {
          "output_type": "execute_result",
          "data": {
            "text/plain": [
              "array([0.04031215, 0.12765874, 0.        , 0.13412301, 0.14391622,\n",
              "       0.0695715 , 0.10625597, 0.04027317, 0.03015811, 0.04329812,\n",
              "       0.1214836 , 0.        ])"
            ]
          },
          "metadata": {},
          "execution_count": 25
        }
      ]
    },
    {
      "cell_type": "code",
      "source": [
        "def find_y_values(arr_len,strike,data_array):\n",
        "  array_with_value = np.full(arr_len,2)\n",
        "\n",
        "  for i in range(len(data_array)):\n",
        "\n",
        "    c= strike+i*strike\n",
        "\n",
        "    if c<len(array_with_value):\n",
        "      array_with_value[c] = data_array[i]\n",
        "      #print(array_with_value[c],data_array[i])\n",
        "\n",
        "  return array_with_value"
      ],
      "metadata": {
        "id": "05DTuSPloBmi"
      },
      "execution_count": null,
      "outputs": []
    },
    {
      "cell_type": "code",
      "source": [
        "train_test_lables = find_y_values(len(reshaped_x_train),90,y_train_arr)"
      ],
      "metadata": {
        "id": "00FVtwo1oGUK"
      },
      "execution_count": null,
      "outputs": []
    },
    {
      "cell_type": "code",
      "source": [
        "test_test_lables = find_y_values(len(reshaped_x_test),90,y_test_arr)"
      ],
      "metadata": {
        "id": "FnZMfCugorBX"
      },
      "execution_count": null,
      "outputs": []
    },
    {
      "cell_type": "code",
      "source": [
        "test_test_lables[191]"
      ],
      "metadata": {
        "colab": {
          "base_uri": "https://localhost:8080/"
        },
        "id": "b0LevlNwrQOm",
        "outputId": "2c74ba1d-7d02-4acb-f67f-dc42c686201b"
      },
      "execution_count": null,
      "outputs": [
        {
          "output_type": "execute_result",
          "data": {
            "text/plain": [
              "2"
            ]
          },
          "metadata": {},
          "execution_count": 29
        }
      ]
    },
    {
      "cell_type": "code",
      "source": [
        "# i = 90\n",
        "# s = 90\n",
        "# iteration = 90 * 41603 / 90\n",
        "# length = 90 * 41603"
      ],
      "metadata": {
        "id": "v6bIEGoRMgs-"
      },
      "execution_count": null,
      "outputs": []
    },
    {
      "cell_type": "code",
      "source": [
        "# churn_array_train = np.full(length, -1)"
      ],
      "metadata": {
        "id": "Djbm6LWsMgrN"
      },
      "execution_count": null,
      "outputs": []
    },
    {
      "cell_type": "code",
      "source": [
        "# iteration = 0\n",
        "# index = 0\n",
        "\n",
        "# for x in range(0, 41603):\n",
        "#   index = i + (s * iteration)\n",
        "\n",
        "#   if index == 3744270:\n",
        "#     break\n",
        "\n",
        "#   churn_array_train[index] = y_train[iteration]\n",
        "#   iteration = iteration + 1\n"
      ],
      "metadata": {
        "id": "mI7q0tiEMgo1"
      },
      "execution_count": null,
      "outputs": []
    },
    {
      "cell_type": "code",
      "source": [
        "# churn_array_train[::90]"
      ],
      "metadata": {
        "id": "OYPLfHw2nm6P"
      },
      "execution_count": null,
      "outputs": []
    },
    {
      "cell_type": "code",
      "source": [
        "# count =0\n",
        "# for _ in churn_array_train:\n",
        "#   if(_==0 or _==1):\n",
        "#     count +=1\n",
        "# print(count)"
      ],
      "metadata": {
        "id": "bAsbszKpMgmV"
      },
      "execution_count": null,
      "outputs": []
    },
    {
      "cell_type": "code",
      "source": [
        "# i = 90\n",
        "# s = 90\n",
        "# len_test = 90*10401\n",
        "# churn_array_test = np.full(len_test, -1)"
      ],
      "metadata": {
        "id": "FGMF6H20QJME"
      },
      "execution_count": null,
      "outputs": []
    },
    {
      "cell_type": "code",
      "source": [
        "# churn_array_test"
      ],
      "metadata": {
        "id": "O7lRdsGkRvD-"
      },
      "execution_count": null,
      "outputs": []
    },
    {
      "cell_type": "code",
      "source": [
        "# y_test"
      ],
      "metadata": {
        "id": "Y3fIPgilSzaN"
      },
      "execution_count": null,
      "outputs": []
    },
    {
      "cell_type": "code",
      "source": [
        "# iteration = 41603\n",
        "# index = 0\n",
        "\n",
        "# for x in range(0, 10401):\n",
        "#   index = i + (s * (iteration - 41603))\n",
        "\n",
        "#   if index == 936090:\n",
        "#     break\n",
        "\n",
        "#   churn_array_test[index] = y_test[iteration]\n",
        "#   iteration = iteration + 1"
      ],
      "metadata": {
        "id": "QXQd5OFsMgjt"
      },
      "execution_count": null,
      "outputs": []
    },
    {
      "cell_type": "code",
      "source": [
        "# print(len(churn_array_train))"
      ],
      "metadata": {
        "colab": {
          "base_uri": "https://localhost:8080/"
        },
        "id": "zTjp7WKBMgg-",
        "outputId": "5f4710c4-92f2-4657-b5e9-85eefd2e5fc2"
      },
      "execution_count": null,
      "outputs": [
        {
          "output_type": "stream",
          "name": "stdout",
          "text": [
            "3744270\n"
          ]
        }
      ]
    },
    {
      "cell_type": "code",
      "source": [
        "# reshaped_x_train.shape"
      ],
      "metadata": {
        "colab": {
          "base_uri": "https://localhost:8080/"
        },
        "id": "TcO93ZzcYK5v",
        "outputId": "deeb8212-dcce-4473-b248-2c12f3314353"
      },
      "execution_count": null,
      "outputs": [
        {
          "output_type": "execute_result",
          "data": {
            "text/plain": [
              "(3744270, 12)"
            ]
          },
          "metadata": {},
          "execution_count": 49
        }
      ]
    },
    {
      "cell_type": "code",
      "source": [
        "win_length = 90\n",
        "batch_size = 1200\n",
        "num_features = 12\n",
        "\n",
        "train_generator = TimeseriesGenerator(reshaped_x_train,train_test_lables , length = win_length, sampling_rate=1, batch_size=batch_size, stride=90)\n",
        "test_generator = TimeseriesGenerator(reshaped_x_test, test_test_lables, length=win_length, sampling_rate=1, batch_size=batch_size, stride=90)"
      ],
      "metadata": {
        "id": "8x2xUS5zMgal"
      },
      "execution_count": null,
      "outputs": []
    },
    {
      "cell_type": "code",
      "source": [
        "train_generator[1]"
      ],
      "metadata": {
        "id": "wpqkm45YMgQt"
      },
      "execution_count": null,
      "outputs": []
    },
    {
      "cell_type": "code",
      "source": [
        "train_test_lables[:90]"
      ],
      "metadata": {
        "id": "9gKpelNZsA0b"
      },
      "execution_count": null,
      "outputs": []
    },
    {
      "cell_type": "code",
      "source": [
        "import tensorflow as tf\n",
        "\n",
        "model = tf.keras.Sequential()\n",
        "model.add(tf.keras.layers.LSTM(1200, input_shape=(win_length,num_features), return_sequences=True))\n",
        "model.add(tf.keras.layers.ReLU())\n",
        "model.add(tf.keras.layers.LSTM(1200, return_sequences=True))\n",
        "model.add(tf.keras.layers.ReLU())\n",
        "model.add(tf.keras.layers.Dropout(0.3))\n",
        "model.add(tf.keras.layers.LSTM(600, return_sequences=False))\n",
        "model.add(tf.keras.layers.Dropout(0.3))\n",
        "model.add(tf.keras.layers.Dense(units=1, activation='sigmoid'))\n"
      ],
      "metadata": {
        "id": "G0088RmhU666"
      },
      "execution_count": null,
      "outputs": []
    },
    {
      "cell_type": "code",
      "source": [
        "model.summary()"
      ],
      "metadata": {
        "colab": {
          "base_uri": "https://localhost:8080/"
        },
        "id": "tCrVcyVEWXQ8",
        "outputId": "81b72d74-3b01-4a7d-cbf6-b703c4e3a8ba"
      },
      "execution_count": null,
      "outputs": [
        {
          "output_type": "stream",
          "name": "stdout",
          "text": [
            "Model: \"sequential_2\"\n",
            "_________________________________________________________________\n",
            " Layer (type)                Output Shape              Param #   \n",
            "=================================================================\n",
            " lstm_6 (LSTM)               (None, 90, 1200)          5822400   \n",
            "                                                                 \n",
            " re_lu_4 (ReLU)              (None, 90, 1200)          0         \n",
            "                                                                 \n",
            " lstm_7 (LSTM)               (None, 90, 1200)          11524800  \n",
            "                                                                 \n",
            " re_lu_5 (ReLU)              (None, 90, 1200)          0         \n",
            "                                                                 \n",
            " dropout_4 (Dropout)         (None, 90, 1200)          0         \n",
            "                                                                 \n",
            " lstm_8 (LSTM)               (None, 600)               4322400   \n",
            "                                                                 \n",
            " dropout_5 (Dropout)         (None, 600)               0         \n",
            "                                                                 \n",
            " dense_2 (Dense)             (None, 1)                 601       \n",
            "                                                                 \n",
            "=================================================================\n",
            "Total params: 21,670,201\n",
            "Trainable params: 21,670,201\n",
            "Non-trainable params: 0\n",
            "_________________________________________________________________\n"
          ]
        }
      ]
    },
    {
      "cell_type": "code",
      "source": [
        "from sklearn.model_selection import KFold"
      ],
      "metadata": {
        "id": "HvMJDXSO5u1a"
      },
      "execution_count": null,
      "outputs": []
    },
    {
      "cell_type": "code",
      "source": [
        "# # Define the number of folds for cross-validation\n",
        "# num_folds = 5\n",
        "\n",
        "# # Initialize KFold cross-validator\n",
        "# kf = KFold(n_splits=num_folds, shuffle=True)\n",
        "\n",
        "# # Lists to store evaluation results for each fold\n",
        "# fold_losses = []\n",
        "# fold_accuracies = []\n",
        "\n",
        "# # Perform k-fold cross-validation\n",
        "# for train_indices, val_indices in kf.split(reshaped_x_train):\n",
        "#     train_generator = TimeseriesGenerator(reshaped_x_train[train_indices], train_test_lables[train_indices],\n",
        "#                                           length=win_length, sampling_rate=1, batch_size=batch_size)\n",
        "#     val_generator = TimeseriesGenerator(reshaped_x_train[val_indices],  train_test_lables[val_indices],\n",
        "#                                         length=win_length, sampling_rate=1, batch_size=batch_size)\n",
        "\n",
        "#     # Compile the model for each fold\n",
        "#     model.compile(loss='binary_crossentropy', optimizer=tf.optimizers.Adam(), metrics=['accuracy'])\n",
        "\n",
        "#     # Train the model on the training data\n",
        "#     history = model.fit_generator(train_generator, epochs=50, validation_data=val_generator, verbose=0)\n",
        "\n",
        "#     # Evaluate the model on the validation data\n",
        "#     evaluation_results = model.evaluate(val_generator)\n",
        "#     fold_losses.append(evaluation_results[0])\n",
        "#     fold_accuracies.append(evaluation_results[1])\n",
        "\n",
        "# # Print average cross-validation results\n",
        "# print(\"Average Loss:\", np.mean(fold_losses))\n",
        "# print(\"Average Accuracy:\", np.mean(fold_accuracies))"
      ],
      "metadata": {
        "id": "F2zBOonK4lOD"
      },
      "execution_count": null,
      "outputs": []
    },
    {
      "cell_type": "code",
      "source": [
        "model.compile(loss='binary_crossentropy', optimizer=tf.optimizers.Adam(learning_rate=0.0009), metrics=['accuracy'])\n",
        "hisotry = model.fit_generator(train_generator, epochs=50, validation_data=test_generator, shuffle=False)"
      ],
      "metadata": {
        "colab": {
          "base_uri": "https://localhost:8080/"
        },
        "id": "Ey3IBrY7U64m",
        "outputId": "99f2c2b5-3544-400d-b7a0-9273b8b0291d"
      },
      "execution_count": null,
      "outputs": [
        {
          "output_type": "stream",
          "name": "stdout",
          "text": [
            "Epoch 1/50\n"
          ]
        },
        {
          "output_type": "stream",
          "name": "stderr",
          "text": [
            "<ipython-input-81-e12682e1a6db>:2: UserWarning: `Model.fit_generator` is deprecated and will be removed in a future version. Please use `Model.fit`, which supports generators.\n",
            "  hisotry = model.fit_generator(train_generator, epochs=50, validation_data=test_generator, shuffle=False)\n"
          ]
        },
        {
          "output_type": "stream",
          "name": "stdout",
          "text": [
            "35/35 [==============================] - 49s 1s/step - loss: 0.3198 - accuracy: 0.8743 - val_loss: 0.0478 - val_accuracy: 0.9848\n",
            "Epoch 2/50\n",
            "35/35 [==============================] - 44s 1s/step - loss: 0.0379 - accuracy: 0.9870 - val_loss: 0.0376 - val_accuracy: 0.9874\n",
            "Epoch 3/50\n",
            "35/35 [==============================] - 44s 1s/step - loss: 0.0326 - accuracy: 0.9886 - val_loss: 0.0307 - val_accuracy: 0.9886\n",
            "Epoch 4/50\n",
            "35/35 [==============================] - 44s 1s/step - loss: 0.0389 - accuracy: 0.9869 - val_loss: 0.0370 - val_accuracy: 0.9873\n",
            "Epoch 5/50\n",
            "35/35 [==============================] - 44s 1s/step - loss: 0.0321 - accuracy: 0.9889 - val_loss: 0.0312 - val_accuracy: 0.9888\n",
            "Epoch 6/50\n",
            "35/35 [==============================] - 44s 1s/step - loss: 0.0293 - accuracy: 0.9898 - val_loss: 0.0341 - val_accuracy: 0.9890\n",
            "Epoch 7/50\n",
            "35/35 [==============================] - 44s 1s/step - loss: 0.0514 - accuracy: 0.9841 - val_loss: 1.5966 - val_accuracy: 0.8207\n",
            "Epoch 8/50\n",
            "35/35 [==============================] - 44s 1s/step - loss: 0.1675 - accuracy: 0.9638 - val_loss: 0.0509 - val_accuracy: 0.9798\n",
            "Epoch 9/50\n",
            "35/35 [==============================] - 44s 1s/step - loss: 0.0383 - accuracy: 0.9868 - val_loss: 0.0332 - val_accuracy: 0.9880\n",
            "Epoch 10/50\n",
            "35/35 [==============================] - 44s 1s/step - loss: 0.0319 - accuracy: 0.9889 - val_loss: 0.0317 - val_accuracy: 0.9887\n",
            "Epoch 11/50\n",
            "35/35 [==============================] - 44s 1s/step - loss: 0.0291 - accuracy: 0.9900 - val_loss: 0.0300 - val_accuracy: 0.9908\n",
            "Epoch 12/50\n",
            "35/35 [==============================] - 44s 1s/step - loss: 0.0270 - accuracy: 0.9912 - val_loss: 0.0307 - val_accuracy: 0.9900\n",
            "Epoch 13/50\n",
            "35/35 [==============================] - 44s 1s/step - loss: 0.0233 - accuracy: 0.9923 - val_loss: 0.0263 - val_accuracy: 0.9911\n",
            "Epoch 14/50\n",
            "35/35 [==============================] - 44s 1s/step - loss: 0.0223 - accuracy: 0.9928 - val_loss: 0.0251 - val_accuracy: 0.9908\n",
            "Epoch 15/50\n",
            "35/35 [==============================] - 44s 1s/step - loss: 0.0220 - accuracy: 0.9931 - val_loss: 0.0271 - val_accuracy: 0.9913\n",
            "Epoch 16/50\n",
            "35/35 [==============================] - 44s 1s/step - loss: 0.0215 - accuracy: 0.9927 - val_loss: 0.0186 - val_accuracy: 0.9939\n",
            "Epoch 17/50\n",
            "35/35 [==============================] - 44s 1s/step - loss: 0.0202 - accuracy: 0.9934 - val_loss: 0.0307 - val_accuracy: 0.9913\n",
            "Epoch 18/50\n",
            "35/35 [==============================] - 44s 1s/step - loss: 0.0247 - accuracy: 0.9922 - val_loss: 0.0199 - val_accuracy: 0.9935\n",
            "Epoch 19/50\n",
            "35/35 [==============================] - 44s 1s/step - loss: 0.0184 - accuracy: 0.9941 - val_loss: 0.0198 - val_accuracy: 0.9937\n",
            "Epoch 20/50\n",
            "35/35 [==============================] - 44s 1s/step - loss: 0.0152 - accuracy: 0.9951 - val_loss: 0.0169 - val_accuracy: 0.9948\n",
            "Epoch 21/50\n",
            "35/35 [==============================] - 44s 1s/step - loss: 0.0141 - accuracy: 0.9954 - val_loss: 0.0181 - val_accuracy: 0.9937\n",
            "Epoch 22/50\n",
            "35/35 [==============================] - 44s 1s/step - loss: 0.0152 - accuracy: 0.9949 - val_loss: 0.0158 - val_accuracy: 0.9952\n",
            "Epoch 23/50\n",
            "35/35 [==============================] - 44s 1s/step - loss: 0.0136 - accuracy: 0.9956 - val_loss: 0.0140 - val_accuracy: 0.9956\n",
            "Epoch 24/50\n",
            "35/35 [==============================] - 44s 1s/step - loss: 0.0129 - accuracy: 0.9954 - val_loss: 0.0178 - val_accuracy: 0.9944\n",
            "Epoch 25/50\n",
            "35/35 [==============================] - 44s 1s/step - loss: 0.0173 - accuracy: 0.9945 - val_loss: 0.0143 - val_accuracy: 0.9958\n",
            "Epoch 26/50\n",
            "35/35 [==============================] - 44s 1s/step - loss: 0.0129 - accuracy: 0.9958 - val_loss: 0.0168 - val_accuracy: 0.9943\n",
            "Epoch 27/50\n",
            "35/35 [==============================] - 44s 1s/step - loss: 0.0128 - accuracy: 0.9957 - val_loss: 0.0150 - val_accuracy: 0.9952\n",
            "Epoch 28/50\n",
            "35/35 [==============================] - 44s 1s/step - loss: 0.0108 - accuracy: 0.9964 - val_loss: 0.0148 - val_accuracy: 0.9954\n",
            "Epoch 29/50\n",
            "35/35 [==============================] - 44s 1s/step - loss: 0.0124 - accuracy: 0.9959 - val_loss: 0.0144 - val_accuracy: 0.9955\n",
            "Epoch 30/50\n",
            "35/35 [==============================] - 44s 1s/step - loss: 0.0110 - accuracy: 0.9963 - val_loss: 0.0155 - val_accuracy: 0.9947\n",
            "Epoch 31/50\n",
            "35/35 [==============================] - 44s 1s/step - loss: 0.0111 - accuracy: 0.9960 - val_loss: 0.0140 - val_accuracy: 0.9955\n",
            "Epoch 32/50\n",
            "35/35 [==============================] - 44s 1s/step - loss: 0.0137 - accuracy: 0.9952 - val_loss: 0.0155 - val_accuracy: 0.9948\n",
            "Epoch 33/50\n",
            "35/35 [==============================] - 44s 1s/step - loss: 0.0108 - accuracy: 0.9964 - val_loss: 0.0145 - val_accuracy: 0.9952\n",
            "Epoch 34/50\n",
            "35/35 [==============================] - 44s 1s/step - loss: 0.0107 - accuracy: 0.9964 - val_loss: 0.0171 - val_accuracy: 0.9944\n",
            "Epoch 35/50\n",
            "35/35 [==============================] - 44s 1s/step - loss: 0.0110 - accuracy: 0.9963 - val_loss: 0.0180 - val_accuracy: 0.9940\n",
            "Epoch 36/50\n",
            "35/35 [==============================] - 44s 1s/step - loss: 0.0111 - accuracy: 0.9963 - val_loss: 0.0188 - val_accuracy: 0.9937\n",
            "Epoch 37/50\n",
            "35/35 [==============================] - 44s 1s/step - loss: 0.0209 - accuracy: 0.9932 - val_loss: 0.0257 - val_accuracy: 0.9914\n",
            "Epoch 38/50\n",
            "35/35 [==============================] - 44s 1s/step - loss: 0.0159 - accuracy: 0.9951 - val_loss: 0.0199 - val_accuracy: 0.9937\n",
            "Epoch 39/50\n",
            "35/35 [==============================] - 44s 1s/step - loss: 0.0167 - accuracy: 0.9947 - val_loss: 0.0166 - val_accuracy: 0.9945\n",
            "Epoch 40/50\n",
            "35/35 [==============================] - 44s 1s/step - loss: 0.0136 - accuracy: 0.9956 - val_loss: 0.0190 - val_accuracy: 0.9937\n",
            "Epoch 41/50\n",
            "35/35 [==============================] - 44s 1s/step - loss: 0.0116 - accuracy: 0.9962 - val_loss: 0.0171 - val_accuracy: 0.9941\n",
            "Epoch 42/50\n",
            "35/35 [==============================] - 44s 1s/step - loss: 0.0099 - accuracy: 0.9968 - val_loss: 0.0157 - val_accuracy: 0.9949\n",
            "Epoch 43/50\n",
            "35/35 [==============================] - 44s 1s/step - loss: 0.0085 - accuracy: 0.9970 - val_loss: 0.0196 - val_accuracy: 0.9932\n",
            "Epoch 44/50\n",
            "35/35 [==============================] - 44s 1s/step - loss: 0.0102 - accuracy: 0.9966 - val_loss: 0.0224 - val_accuracy: 0.9932\n",
            "Epoch 45/50\n",
            "35/35 [==============================] - 44s 1s/step - loss: 0.0109 - accuracy: 0.9964 - val_loss: 0.0179 - val_accuracy: 0.9946\n",
            "Epoch 46/50\n",
            "35/35 [==============================] - 44s 1s/step - loss: 0.0098 - accuracy: 0.9968 - val_loss: 0.0195 - val_accuracy: 0.9937\n",
            "Epoch 47/50\n",
            "35/35 [==============================] - 44s 1s/step - loss: 0.0116 - accuracy: 0.9960 - val_loss: 0.0143 - val_accuracy: 0.9957\n",
            "Epoch 48/50\n",
            "35/35 [==============================] - 44s 1s/step - loss: 0.0090 - accuracy: 0.9969 - val_loss: 0.0170 - val_accuracy: 0.9952\n",
            "Epoch 49/50\n",
            "35/35 [==============================] - 44s 1s/step - loss: 0.0077 - accuracy: 0.9975 - val_loss: 0.0165 - val_accuracy: 0.9952\n",
            "Epoch 50/50\n",
            "35/35 [==============================] - 44s 1s/step - loss: 0.0078 - accuracy: 0.9975 - val_loss: 0.0155 - val_accuracy: 0.9950\n"
          ]
        }
      ]
    },
    {
      "cell_type": "code",
      "source": [
        "test_data = pd.read_csv('/content/drive/MyDrive/datathon/sorted_filtered_test_source_data.csv')\n"
      ],
      "metadata": {
        "id": "w0SFx0sMU62F"
      },
      "execution_count": null,
      "outputs": []
    },
    {
      "cell_type": "code",
      "source": [
        "customer_id_column = test_data['customer_id']\n",
        "day_no_column = test_data['day_no']\n",
        "columns_to_normalize = test_data.columns.difference(['customer_id','day_no'])\n",
        "\n",
        "# Extract the columns you want to normalize using double square brackets\n",
        "features = test_data[columns_to_normalize]\n",
        "\n",
        "# Create a StandardScaler instance\n",
        "scaler = MinMaxScaler()\n",
        "\n",
        "# Fit the scaler on your feature data to compute mean and standard deviation\n",
        "scaler.fit(features)\n",
        "\n",
        "# Transform the features to have zero mean and unit variance\n",
        "normalized_features = scaler.transform(features)\n",
        "scaled_data = scaler.fit_transform(features)\n",
        "\n"
      ],
      "metadata": {
        "id": "9vQiP3mKU6zs"
      },
      "execution_count": null,
      "outputs": []
    },
    {
      "cell_type": "code",
      "source": [
        "scaled_data.shape"
      ],
      "metadata": {
        "colab": {
          "base_uri": "https://localhost:8080/"
        },
        "id": "f0yaGW05U6w6",
        "outputId": "b9a325d8-9409-44f0-8357-88115e7c8aa7"
      },
      "execution_count": null,
      "outputs": [
        {
          "output_type": "execute_result",
          "data": {
            "text/plain": [
              "(1170090, 12)"
            ]
          },
          "metadata": {},
          "execution_count": 84
        }
      ]
    },
    {
      "cell_type": "code",
      "source": [
        "scaled_data[0]"
      ],
      "metadata": {
        "colab": {
          "base_uri": "https://localhost:8080/"
        },
        "id": "p4e-5fIU15eA",
        "outputId": "74fbe08c-d4a9-4028-ca7c-78ff3e9310f9"
      },
      "execution_count": null,
      "outputs": [
        {
          "output_type": "execute_result",
          "data": {
            "text/plain": [
              "array([0.04481355, 0.07390598, 0.16735366, 0.        , 0.        ,\n",
              "       0.02893026, 0.        , 0.03668237, 0.06372681, 0.04572412,\n",
              "       0.04766904, 0.04059129])"
            ]
          },
          "metadata": {},
          "execution_count": 85
        }
      ]
    },
    {
      "cell_type": "code",
      "source": [
        "b = scaled_data.shape[0]//90\n",
        "reshaped_scaled_data = scaled_data.reshape(b,90,12)\n",
        "\n",
        "prediction = model.predict(reshaped_scaled_data)"
      ],
      "metadata": {
        "colab": {
          "base_uri": "https://localhost:8080/"
        },
        "id": "iNg3GfENU6uS",
        "outputId": "842b3172-fa86-4dcb-88c5-60468b3d38ce"
      },
      "execution_count": null,
      "outputs": [
        {
          "output_type": "stream",
          "name": "stdout",
          "text": [
            "407/407 [==============================] - 10s 22ms/step\n"
          ]
        }
      ]
    },
    {
      "cell_type": "code",
      "source": [
        "prediction"
      ],
      "metadata": {
        "colab": {
          "base_uri": "https://localhost:8080/"
        },
        "id": "m-rVU9NyR3yh",
        "outputId": "47734ded-82b0-4579-b5be-d276f6228edc"
      },
      "execution_count": null,
      "outputs": [
        {
          "output_type": "execute_result",
          "data": {
            "text/plain": [
              "array([[3.0013482e-06],\n",
              "       [9.9996364e-01],\n",
              "       [3.3406472e-05],\n",
              "       ...,\n",
              "       [8.6211265e-05],\n",
              "       [1.2363263e-05],\n",
              "       [1.0791563e-05]], dtype=float32)"
            ]
          },
          "metadata": {},
          "execution_count": 87
        }
      ]
    },
    {
      "cell_type": "code",
      "source": [
        "preds = pd.DataFrame(prediction)\n",
        "preds.to_csv('predictions.csv', index=False)"
      ],
      "metadata": {
        "id": "tTkIWdkIMOrm"
      },
      "execution_count": null,
      "outputs": []
    },
    {
      "cell_type": "code",
      "source": [
        "testing = pd.read_csv('/content/drive/MyDrive/datathon/sorted_test_data.csv', header=None, squeeze=True)"
      ],
      "metadata": {
        "id": "1sefaKEKNVZ2"
      },
      "execution_count": null,
      "outputs": []
    },
    {
      "cell_type": "code",
      "source": [
        "preds = pd.read_csv('/content/predictions.csv', header=None, squeeze=True)"
      ],
      "metadata": {
        "id": "AfWHSXvXOdZ7"
      },
      "execution_count": null,
      "outputs": []
    },
    {
      "cell_type": "code",
      "source": [
        "preds"
      ],
      "metadata": {
        "colab": {
          "base_uri": "https://localhost:8080/"
        },
        "id": "WDVSBaMjOnke",
        "outputId": "66107700-7388-480a-911c-b47cc7f8f2bc"
      },
      "execution_count": null,
      "outputs": [
        {
          "output_type": "execute_result",
          "data": {
            "text/plain": [
              "0        0.000000\n",
              "1        0.000003\n",
              "2        0.999964\n",
              "3        0.000033\n",
              "4        0.999942\n",
              "           ...   \n",
              "12997    0.000132\n",
              "12998    0.000028\n",
              "12999    0.000086\n",
              "13000    0.000012\n",
              "13001    0.000011\n",
              "Name: 0, Length: 13002, dtype: float64"
            ]
          },
          "metadata": {},
          "execution_count": 91
        }
      ]
    },
    {
      "cell_type": "code",
      "source": [
        "merged_df = pd.DataFrame({'customer_id':testing, 'prob':preds})"
      ],
      "metadata": {
        "id": "HuX8Ral1Nh1t"
      },
      "execution_count": null,
      "outputs": []
    },
    {
      "cell_type": "code",
      "source": [
        "backup = merged_df"
      ],
      "metadata": {
        "id": "Ckn3rCfEcGtp"
      },
      "execution_count": null,
      "outputs": []
    },
    {
      "cell_type": "code",
      "source": [
        "merged_df"
      ],
      "metadata": {
        "colab": {
          "base_uri": "https://localhost:8080/",
          "height": 423
        },
        "id": "weTJYbpTNrEv",
        "outputId": "efa05a68-9c4d-4db0-bb3d-e6f36f21d8ab"
      },
      "execution_count": null,
      "outputs": [
        {
          "output_type": "execute_result",
          "data": {
            "text/plain": [
              "                                             customer_id      prob\n",
              "0                                            customer_id  0.000000\n",
              "1      000205e54ddf8bc7512490895ce397647faaedc114f411...  0.000003\n",
              "2      00034ffafc06f53a7b5cad2d868905892f098ffe98b9bf...  0.999964\n",
              "3      00050a199532994483f7714b3d77232b11441f7128e889...  0.000033\n",
              "4      0005979f57859293006e88f5cd34bf31df13e8619dece1...  0.999942\n",
              "...                                                  ...       ...\n",
              "12997  ffe4ae9efa1d9d4c6e53056a4875f52467fe55625294b0...  0.000132\n",
              "12998  ffe9eda9fa494954d5e56a1450ef3577d698686e9e98fb...  0.000028\n",
              "12999  ffef1e6d1781ec115d789a47e585aa78ecc3fb68619f4c...  0.000086\n",
              "13000  fffb2a183f16a0295fcc2fd1b8c28a6c7aff5c8645b46c...  0.000012\n",
              "13001  fffca54ff668f221c542d73de4e97b6e11fe1cb4023018...  0.000011\n",
              "\n",
              "[13002 rows x 2 columns]"
            ],
            "text/html": [
              "\n",
              "  <div id=\"df-2d0b4ca5-26bd-4b09-a819-eba186f2b7e1\" class=\"colab-df-container\">\n",
              "    <div>\n",
              "<style scoped>\n",
              "    .dataframe tbody tr th:only-of-type {\n",
              "        vertical-align: middle;\n",
              "    }\n",
              "\n",
              "    .dataframe tbody tr th {\n",
              "        vertical-align: top;\n",
              "    }\n",
              "\n",
              "    .dataframe thead th {\n",
              "        text-align: right;\n",
              "    }\n",
              "</style>\n",
              "<table border=\"1\" class=\"dataframe\">\n",
              "  <thead>\n",
              "    <tr style=\"text-align: right;\">\n",
              "      <th></th>\n",
              "      <th>customer_id</th>\n",
              "      <th>prob</th>\n",
              "    </tr>\n",
              "  </thead>\n",
              "  <tbody>\n",
              "    <tr>\n",
              "      <th>0</th>\n",
              "      <td>customer_id</td>\n",
              "      <td>0.000000</td>\n",
              "    </tr>\n",
              "    <tr>\n",
              "      <th>1</th>\n",
              "      <td>000205e54ddf8bc7512490895ce397647faaedc114f411...</td>\n",
              "      <td>0.000003</td>\n",
              "    </tr>\n",
              "    <tr>\n",
              "      <th>2</th>\n",
              "      <td>00034ffafc06f53a7b5cad2d868905892f098ffe98b9bf...</td>\n",
              "      <td>0.999964</td>\n",
              "    </tr>\n",
              "    <tr>\n",
              "      <th>3</th>\n",
              "      <td>00050a199532994483f7714b3d77232b11441f7128e889...</td>\n",
              "      <td>0.000033</td>\n",
              "    </tr>\n",
              "    <tr>\n",
              "      <th>4</th>\n",
              "      <td>0005979f57859293006e88f5cd34bf31df13e8619dece1...</td>\n",
              "      <td>0.999942</td>\n",
              "    </tr>\n",
              "    <tr>\n",
              "      <th>...</th>\n",
              "      <td>...</td>\n",
              "      <td>...</td>\n",
              "    </tr>\n",
              "    <tr>\n",
              "      <th>12997</th>\n",
              "      <td>ffe4ae9efa1d9d4c6e53056a4875f52467fe55625294b0...</td>\n",
              "      <td>0.000132</td>\n",
              "    </tr>\n",
              "    <tr>\n",
              "      <th>12998</th>\n",
              "      <td>ffe9eda9fa494954d5e56a1450ef3577d698686e9e98fb...</td>\n",
              "      <td>0.000028</td>\n",
              "    </tr>\n",
              "    <tr>\n",
              "      <th>12999</th>\n",
              "      <td>ffef1e6d1781ec115d789a47e585aa78ecc3fb68619f4c...</td>\n",
              "      <td>0.000086</td>\n",
              "    </tr>\n",
              "    <tr>\n",
              "      <th>13000</th>\n",
              "      <td>fffb2a183f16a0295fcc2fd1b8c28a6c7aff5c8645b46c...</td>\n",
              "      <td>0.000012</td>\n",
              "    </tr>\n",
              "    <tr>\n",
              "      <th>13001</th>\n",
              "      <td>fffca54ff668f221c542d73de4e97b6e11fe1cb4023018...</td>\n",
              "      <td>0.000011</td>\n",
              "    </tr>\n",
              "  </tbody>\n",
              "</table>\n",
              "<p>13002 rows × 2 columns</p>\n",
              "</div>\n",
              "    <div class=\"colab-df-buttons\">\n",
              "\n",
              "  <div class=\"colab-df-container\">\n",
              "    <button class=\"colab-df-convert\" onclick=\"convertToInteractive('df-2d0b4ca5-26bd-4b09-a819-eba186f2b7e1')\"\n",
              "            title=\"Convert this dataframe to an interactive table.\"\n",
              "            style=\"display:none;\">\n",
              "\n",
              "  <svg xmlns=\"http://www.w3.org/2000/svg\" height=\"24px\" viewBox=\"0 -960 960 960\">\n",
              "    <path d=\"M120-120v-720h720v720H120Zm60-500h600v-160H180v160Zm220 220h160v-160H400v160Zm0 220h160v-160H400v160ZM180-400h160v-160H180v160Zm440 0h160v-160H620v160ZM180-180h160v-160H180v160Zm440 0h160v-160H620v160Z\"/>\n",
              "  </svg>\n",
              "    </button>\n",
              "\n",
              "  <style>\n",
              "    .colab-df-container {\n",
              "      display:flex;\n",
              "      gap: 12px;\n",
              "    }\n",
              "\n",
              "    .colab-df-convert {\n",
              "      background-color: #E8F0FE;\n",
              "      border: none;\n",
              "      border-radius: 50%;\n",
              "      cursor: pointer;\n",
              "      display: none;\n",
              "      fill: #1967D2;\n",
              "      height: 32px;\n",
              "      padding: 0 0 0 0;\n",
              "      width: 32px;\n",
              "    }\n",
              "\n",
              "    .colab-df-convert:hover {\n",
              "      background-color: #E2EBFA;\n",
              "      box-shadow: 0px 1px 2px rgba(60, 64, 67, 0.3), 0px 1px 3px 1px rgba(60, 64, 67, 0.15);\n",
              "      fill: #174EA6;\n",
              "    }\n",
              "\n",
              "    .colab-df-buttons div {\n",
              "      margin-bottom: 4px;\n",
              "    }\n",
              "\n",
              "    [theme=dark] .colab-df-convert {\n",
              "      background-color: #3B4455;\n",
              "      fill: #D2E3FC;\n",
              "    }\n",
              "\n",
              "    [theme=dark] .colab-df-convert:hover {\n",
              "      background-color: #434B5C;\n",
              "      box-shadow: 0px 1px 3px 1px rgba(0, 0, 0, 0.15);\n",
              "      filter: drop-shadow(0px 1px 2px rgba(0, 0, 0, 0.3));\n",
              "      fill: #FFFFFF;\n",
              "    }\n",
              "  </style>\n",
              "\n",
              "    <script>\n",
              "      const buttonEl =\n",
              "        document.querySelector('#df-2d0b4ca5-26bd-4b09-a819-eba186f2b7e1 button.colab-df-convert');\n",
              "      buttonEl.style.display =\n",
              "        google.colab.kernel.accessAllowed ? 'block' : 'none';\n",
              "\n",
              "      async function convertToInteractive(key) {\n",
              "        const element = document.querySelector('#df-2d0b4ca5-26bd-4b09-a819-eba186f2b7e1');\n",
              "        const dataTable =\n",
              "          await google.colab.kernel.invokeFunction('convertToInteractive',\n",
              "                                                    [key], {});\n",
              "        if (!dataTable) return;\n",
              "\n",
              "        const docLinkHtml = 'Like what you see? Visit the ' +\n",
              "          '<a target=\"_blank\" href=https://colab.research.google.com/notebooks/data_table.ipynb>data table notebook</a>'\n",
              "          + ' to learn more about interactive tables.';\n",
              "        element.innerHTML = '';\n",
              "        dataTable['output_type'] = 'display_data';\n",
              "        await google.colab.output.renderOutput(dataTable, element);\n",
              "        const docLink = document.createElement('div');\n",
              "        docLink.innerHTML = docLinkHtml;\n",
              "        element.appendChild(docLink);\n",
              "      }\n",
              "    </script>\n",
              "  </div>\n",
              "\n",
              "\n",
              "<div id=\"df-5836456a-1871-47d8-ba61-d2bcecb1fe38\">\n",
              "  <button class=\"colab-df-quickchart\" onclick=\"quickchart('df-5836456a-1871-47d8-ba61-d2bcecb1fe38')\"\n",
              "            title=\"Suggest charts.\"\n",
              "            style=\"display:none;\">\n",
              "\n",
              "<svg xmlns=\"http://www.w3.org/2000/svg\" height=\"24px\"viewBox=\"0 0 24 24\"\n",
              "     width=\"24px\">\n",
              "    <g>\n",
              "        <path d=\"M19 3H5c-1.1 0-2 .9-2 2v14c0 1.1.9 2 2 2h14c1.1 0 2-.9 2-2V5c0-1.1-.9-2-2-2zM9 17H7v-7h2v7zm4 0h-2V7h2v10zm4 0h-2v-4h2v4z\"/>\n",
              "    </g>\n",
              "</svg>\n",
              "  </button>\n",
              "\n",
              "<style>\n",
              "  .colab-df-quickchart {\n",
              "    background-color: #E8F0FE;\n",
              "    border: none;\n",
              "    border-radius: 50%;\n",
              "    cursor: pointer;\n",
              "    display: none;\n",
              "    fill: #1967D2;\n",
              "    height: 32px;\n",
              "    padding: 0 0 0 0;\n",
              "    width: 32px;\n",
              "  }\n",
              "\n",
              "  .colab-df-quickchart:hover {\n",
              "    background-color: #E2EBFA;\n",
              "    box-shadow: 0px 1px 2px rgba(60, 64, 67, 0.3), 0px 1px 3px 1px rgba(60, 64, 67, 0.15);\n",
              "    fill: #174EA6;\n",
              "  }\n",
              "\n",
              "  [theme=dark] .colab-df-quickchart {\n",
              "    background-color: #3B4455;\n",
              "    fill: #D2E3FC;\n",
              "  }\n",
              "\n",
              "  [theme=dark] .colab-df-quickchart:hover {\n",
              "    background-color: #434B5C;\n",
              "    box-shadow: 0px 1px 3px 1px rgba(0, 0, 0, 0.15);\n",
              "    filter: drop-shadow(0px 1px 2px rgba(0, 0, 0, 0.3));\n",
              "    fill: #FFFFFF;\n",
              "  }\n",
              "</style>\n",
              "\n",
              "  <script>\n",
              "    async function quickchart(key) {\n",
              "      const charts = await google.colab.kernel.invokeFunction(\n",
              "          'suggestCharts', [key], {});\n",
              "    }\n",
              "    (() => {\n",
              "      let quickchartButtonEl =\n",
              "        document.querySelector('#df-5836456a-1871-47d8-ba61-d2bcecb1fe38 button');\n",
              "      quickchartButtonEl.style.display =\n",
              "        google.colab.kernel.accessAllowed ? 'block' : 'none';\n",
              "    })();\n",
              "  </script>\n",
              "</div>\n",
              "    </div>\n",
              "  </div>\n"
            ]
          },
          "metadata": {},
          "execution_count": 103
        }
      ]
    },
    {
      "cell_type": "code",
      "source": [
        "merged_df.drop(index=0, inplace=True)"
      ],
      "metadata": {
        "id": "666jHZ9lO_mx"
      },
      "execution_count": null,
      "outputs": []
    },
    {
      "cell_type": "code",
      "source": [
        "merged_df.to_csv('predictions_final.csv', index=False)"
      ],
      "metadata": {
        "id": "6GgLE3MgPMWY"
      },
      "execution_count": null,
      "outputs": []
    },
    {
      "cell_type": "code",
      "source": [
        "merged_df"
      ],
      "metadata": {
        "colab": {
          "base_uri": "https://localhost:8080/",
          "height": 423
        },
        "id": "hYYYGss1M3XK",
        "outputId": "842fe898-54ae-4539-8b42-fda14ae043e1"
      },
      "execution_count": null,
      "outputs": [
        {
          "output_type": "execute_result",
          "data": {
            "text/plain": [
              "                                             customer_id      prob\n",
              "1      000205e54ddf8bc7512490895ce397647faaedc114f411...  0.000003\n",
              "2      00034ffafc06f53a7b5cad2d868905892f098ffe98b9bf...  0.999964\n",
              "3      00050a199532994483f7714b3d77232b11441f7128e889...  0.000033\n",
              "4      0005979f57859293006e88f5cd34bf31df13e8619dece1...  0.999942\n",
              "5      000cda0704a843ff7cb7137cc2a87bddfa7390ea5561c3...  0.000240\n",
              "...                                                  ...       ...\n",
              "12997  ffe4ae9efa1d9d4c6e53056a4875f52467fe55625294b0...  0.000132\n",
              "12998  ffe9eda9fa494954d5e56a1450ef3577d698686e9e98fb...  0.000028\n",
              "12999  ffef1e6d1781ec115d789a47e585aa78ecc3fb68619f4c...  0.000086\n",
              "13000  fffb2a183f16a0295fcc2fd1b8c28a6c7aff5c8645b46c...  0.000012\n",
              "13001  fffca54ff668f221c542d73de4e97b6e11fe1cb4023018...  0.000011\n",
              "\n",
              "[13001 rows x 2 columns]"
            ],
            "text/html": [
              "\n",
              "  <div id=\"df-c511f96e-fc89-4fd4-bd43-1988957e6e52\" class=\"colab-df-container\">\n",
              "    <div>\n",
              "<style scoped>\n",
              "    .dataframe tbody tr th:only-of-type {\n",
              "        vertical-align: middle;\n",
              "    }\n",
              "\n",
              "    .dataframe tbody tr th {\n",
              "        vertical-align: top;\n",
              "    }\n",
              "\n",
              "    .dataframe thead th {\n",
              "        text-align: right;\n",
              "    }\n",
              "</style>\n",
              "<table border=\"1\" class=\"dataframe\">\n",
              "  <thead>\n",
              "    <tr style=\"text-align: right;\">\n",
              "      <th></th>\n",
              "      <th>customer_id</th>\n",
              "      <th>prob</th>\n",
              "    </tr>\n",
              "  </thead>\n",
              "  <tbody>\n",
              "    <tr>\n",
              "      <th>1</th>\n",
              "      <td>000205e54ddf8bc7512490895ce397647faaedc114f411...</td>\n",
              "      <td>0.000003</td>\n",
              "    </tr>\n",
              "    <tr>\n",
              "      <th>2</th>\n",
              "      <td>00034ffafc06f53a7b5cad2d868905892f098ffe98b9bf...</td>\n",
              "      <td>0.999964</td>\n",
              "    </tr>\n",
              "    <tr>\n",
              "      <th>3</th>\n",
              "      <td>00050a199532994483f7714b3d77232b11441f7128e889...</td>\n",
              "      <td>0.000033</td>\n",
              "    </tr>\n",
              "    <tr>\n",
              "      <th>4</th>\n",
              "      <td>0005979f57859293006e88f5cd34bf31df13e8619dece1...</td>\n",
              "      <td>0.999942</td>\n",
              "    </tr>\n",
              "    <tr>\n",
              "      <th>5</th>\n",
              "      <td>000cda0704a843ff7cb7137cc2a87bddfa7390ea5561c3...</td>\n",
              "      <td>0.000240</td>\n",
              "    </tr>\n",
              "    <tr>\n",
              "      <th>...</th>\n",
              "      <td>...</td>\n",
              "      <td>...</td>\n",
              "    </tr>\n",
              "    <tr>\n",
              "      <th>12997</th>\n",
              "      <td>ffe4ae9efa1d9d4c6e53056a4875f52467fe55625294b0...</td>\n",
              "      <td>0.000132</td>\n",
              "    </tr>\n",
              "    <tr>\n",
              "      <th>12998</th>\n",
              "      <td>ffe9eda9fa494954d5e56a1450ef3577d698686e9e98fb...</td>\n",
              "      <td>0.000028</td>\n",
              "    </tr>\n",
              "    <tr>\n",
              "      <th>12999</th>\n",
              "      <td>ffef1e6d1781ec115d789a47e585aa78ecc3fb68619f4c...</td>\n",
              "      <td>0.000086</td>\n",
              "    </tr>\n",
              "    <tr>\n",
              "      <th>13000</th>\n",
              "      <td>fffb2a183f16a0295fcc2fd1b8c28a6c7aff5c8645b46c...</td>\n",
              "      <td>0.000012</td>\n",
              "    </tr>\n",
              "    <tr>\n",
              "      <th>13001</th>\n",
              "      <td>fffca54ff668f221c542d73de4e97b6e11fe1cb4023018...</td>\n",
              "      <td>0.000011</td>\n",
              "    </tr>\n",
              "  </tbody>\n",
              "</table>\n",
              "<p>13001 rows × 2 columns</p>\n",
              "</div>\n",
              "    <div class=\"colab-df-buttons\">\n",
              "\n",
              "  <div class=\"colab-df-container\">\n",
              "    <button class=\"colab-df-convert\" onclick=\"convertToInteractive('df-c511f96e-fc89-4fd4-bd43-1988957e6e52')\"\n",
              "            title=\"Convert this dataframe to an interactive table.\"\n",
              "            style=\"display:none;\">\n",
              "\n",
              "  <svg xmlns=\"http://www.w3.org/2000/svg\" height=\"24px\" viewBox=\"0 -960 960 960\">\n",
              "    <path d=\"M120-120v-720h720v720H120Zm60-500h600v-160H180v160Zm220 220h160v-160H400v160Zm0 220h160v-160H400v160ZM180-400h160v-160H180v160Zm440 0h160v-160H620v160ZM180-180h160v-160H180v160Zm440 0h160v-160H620v160Z\"/>\n",
              "  </svg>\n",
              "    </button>\n",
              "\n",
              "  <style>\n",
              "    .colab-df-container {\n",
              "      display:flex;\n",
              "      gap: 12px;\n",
              "    }\n",
              "\n",
              "    .colab-df-convert {\n",
              "      background-color: #E8F0FE;\n",
              "      border: none;\n",
              "      border-radius: 50%;\n",
              "      cursor: pointer;\n",
              "      display: none;\n",
              "      fill: #1967D2;\n",
              "      height: 32px;\n",
              "      padding: 0 0 0 0;\n",
              "      width: 32px;\n",
              "    }\n",
              "\n",
              "    .colab-df-convert:hover {\n",
              "      background-color: #E2EBFA;\n",
              "      box-shadow: 0px 1px 2px rgba(60, 64, 67, 0.3), 0px 1px 3px 1px rgba(60, 64, 67, 0.15);\n",
              "      fill: #174EA6;\n",
              "    }\n",
              "\n",
              "    .colab-df-buttons div {\n",
              "      margin-bottom: 4px;\n",
              "    }\n",
              "\n",
              "    [theme=dark] .colab-df-convert {\n",
              "      background-color: #3B4455;\n",
              "      fill: #D2E3FC;\n",
              "    }\n",
              "\n",
              "    [theme=dark] .colab-df-convert:hover {\n",
              "      background-color: #434B5C;\n",
              "      box-shadow: 0px 1px 3px 1px rgba(0, 0, 0, 0.15);\n",
              "      filter: drop-shadow(0px 1px 2px rgba(0, 0, 0, 0.3));\n",
              "      fill: #FFFFFF;\n",
              "    }\n",
              "  </style>\n",
              "\n",
              "    <script>\n",
              "      const buttonEl =\n",
              "        document.querySelector('#df-c511f96e-fc89-4fd4-bd43-1988957e6e52 button.colab-df-convert');\n",
              "      buttonEl.style.display =\n",
              "        google.colab.kernel.accessAllowed ? 'block' : 'none';\n",
              "\n",
              "      async function convertToInteractive(key) {\n",
              "        const element = document.querySelector('#df-c511f96e-fc89-4fd4-bd43-1988957e6e52');\n",
              "        const dataTable =\n",
              "          await google.colab.kernel.invokeFunction('convertToInteractive',\n",
              "                                                    [key], {});\n",
              "        if (!dataTable) return;\n",
              "\n",
              "        const docLinkHtml = 'Like what you see? Visit the ' +\n",
              "          '<a target=\"_blank\" href=https://colab.research.google.com/notebooks/data_table.ipynb>data table notebook</a>'\n",
              "          + ' to learn more about interactive tables.';\n",
              "        element.innerHTML = '';\n",
              "        dataTable['output_type'] = 'display_data';\n",
              "        await google.colab.output.renderOutput(dataTable, element);\n",
              "        const docLink = document.createElement('div');\n",
              "        docLink.innerHTML = docLinkHtml;\n",
              "        element.appendChild(docLink);\n",
              "      }\n",
              "    </script>\n",
              "  </div>\n",
              "\n",
              "\n",
              "<div id=\"df-41ea2a67-a2d4-4cd1-b368-8cb73728de15\">\n",
              "  <button class=\"colab-df-quickchart\" onclick=\"quickchart('df-41ea2a67-a2d4-4cd1-b368-8cb73728de15')\"\n",
              "            title=\"Suggest charts.\"\n",
              "            style=\"display:none;\">\n",
              "\n",
              "<svg xmlns=\"http://www.w3.org/2000/svg\" height=\"24px\"viewBox=\"0 0 24 24\"\n",
              "     width=\"24px\">\n",
              "    <g>\n",
              "        <path d=\"M19 3H5c-1.1 0-2 .9-2 2v14c0 1.1.9 2 2 2h14c1.1 0 2-.9 2-2V5c0-1.1-.9-2-2-2zM9 17H7v-7h2v7zm4 0h-2V7h2v10zm4 0h-2v-4h2v4z\"/>\n",
              "    </g>\n",
              "</svg>\n",
              "  </button>\n",
              "\n",
              "<style>\n",
              "  .colab-df-quickchart {\n",
              "    background-color: #E8F0FE;\n",
              "    border: none;\n",
              "    border-radius: 50%;\n",
              "    cursor: pointer;\n",
              "    display: none;\n",
              "    fill: #1967D2;\n",
              "    height: 32px;\n",
              "    padding: 0 0 0 0;\n",
              "    width: 32px;\n",
              "  }\n",
              "\n",
              "  .colab-df-quickchart:hover {\n",
              "    background-color: #E2EBFA;\n",
              "    box-shadow: 0px 1px 2px rgba(60, 64, 67, 0.3), 0px 1px 3px 1px rgba(60, 64, 67, 0.15);\n",
              "    fill: #174EA6;\n",
              "  }\n",
              "\n",
              "  [theme=dark] .colab-df-quickchart {\n",
              "    background-color: #3B4455;\n",
              "    fill: #D2E3FC;\n",
              "  }\n",
              "\n",
              "  [theme=dark] .colab-df-quickchart:hover {\n",
              "    background-color: #434B5C;\n",
              "    box-shadow: 0px 1px 3px 1px rgba(0, 0, 0, 0.15);\n",
              "    filter: drop-shadow(0px 1px 2px rgba(0, 0, 0, 0.3));\n",
              "    fill: #FFFFFF;\n",
              "  }\n",
              "</style>\n",
              "\n",
              "  <script>\n",
              "    async function quickchart(key) {\n",
              "      const charts = await google.colab.kernel.invokeFunction(\n",
              "          'suggestCharts', [key], {});\n",
              "    }\n",
              "    (() => {\n",
              "      let quickchartButtonEl =\n",
              "        document.querySelector('#df-41ea2a67-a2d4-4cd1-b368-8cb73728de15 button');\n",
              "      quickchartButtonEl.style.display =\n",
              "        google.colab.kernel.accessAllowed ? 'block' : 'none';\n",
              "    })();\n",
              "  </script>\n",
              "</div>\n",
              "    </div>\n",
              "  </div>\n"
            ]
          },
          "metadata": {},
          "execution_count": 106
        }
      ]
    },
    {
      "cell_type": "code",
      "source": [
        "len(prediction)"
      ],
      "metadata": {
        "colab": {
          "base_uri": "https://localhost:8080/"
        },
        "id": "pj2XNzeYLomC",
        "outputId": "1a1ccdbd-4d6f-4688-cb6e-6debb698751b"
      },
      "execution_count": null,
      "outputs": [
        {
          "output_type": "execute_result",
          "data": {
            "text/plain": [
              "13001"
            ]
          },
          "metadata": {},
          "execution_count": 107
        }
      ]
    },
    {
      "cell_type": "code",
      "source": [
        "# Replace this with your actual churn probabilities\n",
        "num_customers = len(prediction)\n",
        "churn_probabilities = np.random.rand(num_customers)\n",
        "\n",
        "sorted_indices = np.argsort(churn_probabilities)\n",
        "sorted_churn_probabilities = churn_probabilities[sorted_indices]\n",
        "\n",
        "num_high_risk = int(num_customers * 0.2)  # 20% considered high risk\n",
        "num_medium_risk = int(num_customers * 0.3)  # 30% considered medium risk\n",
        "\n",
        "high_risk_indices = sorted_indices[-num_high_risk:]\n",
        "medium_risk_indices = sorted_indices[-num_high_risk - num_medium_risk:-num_high_risk]\n",
        "low_risk_indices = sorted_indices[:-num_high_risk - num_medium_risk]\n",
        "\n",
        "# Count the number of customers in each risk segment\n",
        "num_low_risk = len(low_risk_indices)\n",
        "num_medium_risk = len(medium_risk_indices)\n",
        "num_high_risk = len(high_risk_indices)\n",
        "\n",
        "# Create a pie chart\n",
        "labels = ['Low Risk', 'Medium Risk', 'High Risk']\n",
        "sizes = [num_low_risk, num_medium_risk, num_high_risk]\n",
        "colors = ['green', 'yellow', 'red']\n",
        "explode = (0.1, 0, 0)  # explode the 1st slice (Low Risk)\n",
        "\n",
        "plt.figure(figsize=(8, 8))\n",
        "plt.pie(sizes, explode=explode, labels=labels, colors=colors, autopct='%1.1f%%', shadow=True, startangle=140)\n",
        "plt.axis('equal')  # Equal aspect ratio ensures that pie is drawn as a circle.\n",
        "\n",
        "plt.title('Distribution of Customers by Risk Segment')\n",
        "plt.show()"
      ],
      "metadata": {
        "colab": {
          "base_uri": "https://localhost:8080/",
          "height": 675
        },
        "id": "2sH4RF5uLK7W",
        "outputId": "f9b2f8e1-3934-4617-c46d-af97f42ea269"
      },
      "execution_count": null,
      "outputs": [
        {
          "output_type": "display_data",
          "data": {
            "text/plain": [
              "<Figure size 800x800 with 1 Axes>"
            ],
            "image/png": "[encoded data removed]"
          },
          "metadata": {}
        }
      ]
    },
    {
      "cell_type": "code",
      "source": [
        "plt.hist(merged_df['prob'], bins=20, edgecolor='black')\n",
        "plt.xlabel('Churn Probability')\n",
        "plt.ylabel('Number of Customers')\n",
        "plt.title('Distribution of Churn Probabilities')\n",
        "plt.show()"
      ],
      "metadata": {
        "colab": {
          "base_uri": "https://localhost:8080/",
          "height": 472
        },
        "id": "HCbgiPqKQPrX",
        "outputId": "ea24e0da-1adb-4a4a-8d8f-25172f17d0ea"
      },
      "execution_count": null,
      "outputs": [
        {
          "output_type": "display_data",
          "data": {
            "text/plain": [
              "<Figure size 640x480 with 1 Axes>"
            ],
            "image/png": "[encoded data removed]"
          },
          "metadata": {}
        }
      ]
    },
    {
      "cell_type": "code",
      "source": [
        "plt.figure(figsize=(10, 6))\n",
        "plt.scatter(merged_df['customer_id'], merged_df['prob'], color='blue', alpha=0.5)\n",
        "plt.xlabel('Customer ID')\n",
        "plt.ylabel('Churn Probability')\n",
        "plt.title('Risk of Churn for Customers')\n",
        "plt.xticks(rotation='vertical')\n",
        "plt.grid(True)\n",
        "plt.show()"
      ],
      "metadata": {
        "colab": {
          "base_uri": "https://localhost:8080/",
          "height": 1000
        },
        "id": "9qtN22zYRYnH",
        "outputId": "6756c7da-97e0-40cc-ebbd-ecabc421a909"
      },
      "execution_count": null,
      "outputs": [
        {
          "output_type": "display_data",
          "data": {
            "text/plain": [
              "<Figure size 1000x600 with 1 Axes>"
            ],
            "image/png": "[encoded data removed]"
          },
          "metadata": {}
        }
      ]
    },
    {
      "cell_type": "code",
      "source": [
        "binary_predictions = (prediction > 0.5).astype(int)"
      ],
      "metadata": {
        "id": "Su3vvg9b2Unx"
      },
      "execution_count": null,
      "outputs": []
    },
    {
      "cell_type": "code",
      "source": [
        "ground_truth = pd.read_csv('/content/drive/MyDrive/datathon/sorted_ground_truth.csv')"
      ],
      "metadata": {
        "id": "FQRcmcI0U6op"
      },
      "execution_count": null,
      "outputs": []
    },
    {
      "cell_type": "code",
      "source": [
        "ground_truth_values = ground_truth['churn_status']"
      ],
      "metadata": {
        "id": "uOvOoNti4kQ5"
      },
      "execution_count": null,
      "outputs": []
    },
    {
      "cell_type": "code",
      "source": [
        "flatten = binary_predictions.flatten()"
      ],
      "metadata": {
        "id": "hxXDbn-u6Wg0"
      },
      "execution_count": null,
      "outputs": []
    },
    {
      "cell_type": "code",
      "source": [
        "flatten[:50]"
      ],
      "metadata": {
        "colab": {
          "base_uri": "https://localhost:8080/"
        },
        "id": "b-SZ3emj7Fzh",
        "outputId": "99d37ae8-e06e-41af-d6e6-b35ecf0683a6"
      },
      "execution_count": null,
      "outputs": [
        {
          "output_type": "execute_result",
          "data": {
            "text/plain": [
              "array([0, 1, 0, 1, 0, 0, 0, 1, 0, 0, 1, 0, 0, 1, 0, 1, 1, 0, 1, 0, 1, 0,\n",
              "       0, 0, 0, 0, 0, 1, 0, 1, 1, 1, 1, 0, 1, 0, 0, 0, 0, 0, 0, 0, 0, 0,\n",
              "       0, 0, 1, 0, 1, 0])"
            ]
          },
          "metadata": {},
          "execution_count": 175
        }
      ]
    },
    {
      "cell_type": "code",
      "source": [
        "ground_truth_values.values[:50]"
      ],
      "metadata": {
        "colab": {
          "base_uri": "https://localhost:8080/"
        },
        "id": "XagoaCee6eH0",
        "outputId": "fff5e6e4-07e8-4951-c89c-84d90a8efe87"
      },
      "execution_count": null,
      "outputs": [
        {
          "output_type": "execute_result",
          "data": {
            "text/plain": [
              "array([0, 1, 0, 1, 0, 0, 0, 1, 0, 0, 1, 0, 0, 1, 0, 1, 1, 0, 1, 0, 1, 0,\n",
              "       0, 0, 0, 0, 0, 1, 0, 1, 1, 1, 1, 0, 1, 0, 0, 0, 0, 0, 0, 0, 0, 0,\n",
              "       0, 0, 1, 0, 1, 0])"
            ]
          },
          "metadata": {},
          "execution_count": 174
        }
      ]
    },
    {
      "cell_type": "code",
      "source": [
        "accuracy = np.mean(flatten == ground_truth_values.values)"
      ],
      "metadata": {
        "id": "4UinFdDY6EW-"
      },
      "execution_count": null,
      "outputs": []
    },
    {
      "cell_type": "code",
      "source": [
        "accuracy"
      ],
      "metadata": {
        "colab": {
          "base_uri": "https://localhost:8080/"
        },
        "id": "YznVf9LD6ETd",
        "outputId": "67339774-f664-4307-e6bf-0c441d927010"
      },
      "execution_count": null,
      "outputs": [
        {
          "output_type": "execute_result",
          "data": {
            "text/plain": [
              "0.9954618875471117"
            ]
          },
          "metadata": {},
          "execution_count": 177
        }
      ]
    },
    {
      "cell_type": "code",
      "source": [
        "from sklearn.metrics import precision_score, recall_score, f1_score"
      ],
      "metadata": {
        "id": "pKPe18Vx83Ws"
      },
      "execution_count": null,
      "outputs": []
    },
    {
      "cell_type": "code",
      "source": [
        "# Assuming 'y_true' contains the true labels and 'y_pred' contains the predicted labels\n",
        "precision = precision_score(ground_truth_values.values, flatten)\n",
        "recall = recall_score(ground_truth_values.values, flatten)\n",
        "f1 = f1_score(ground_truth_values.values, flatten)\n",
        "\n",
        "print(\"Precision:\", precision)\n",
        "print(\"Recall:\", recall)\n",
        "print(\"F1-Score:\", f1)"
      ],
      "metadata": {
        "colab": {
          "base_uri": "https://localhost:8080/"
        },
        "id": "VaOFhixH88Ms",
        "outputId": "66e9c71a-6bec-4a52-8d39-f6e6ed5d82cd"
      },
      "execution_count": null,
      "outputs": [
        {
          "output_type": "stream",
          "name": "stdout",
          "text": [
            "Precision: 0.9909182643794148\n",
            "Recall: 0.9892545332437878\n",
            "F1-Score: 0.9900856998823726\n"
          ]
        }
      ]
    }
  ]
}